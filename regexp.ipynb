{
 "metadata": {
  "language_info": {
   "codemirror_mode": {
    "name": "ipython",
    "version": 3
   },
   "file_extension": ".py",
   "mimetype": "text/x-python",
   "name": "python",
   "nbconvert_exporter": "python",
   "pygments_lexer": "ipython3",
   "version": "3.8.3"
  },
  "orig_nbformat": 2,
  "kernelspec": {
   "name": "python383jvsc74a57bd04679094c71e58fd5daa32654c6d4dcc218cb243910207196539a7dfc04a8a332",
   "display_name": "Python 3.8.3 64-bit ('base': conda)"
  }
 },
 "nbformat": 4,
 "nbformat_minor": 2,
 "cells": [
  {
   "cell_type": "code",
   "execution_count": 156,
   "metadata": {},
   "outputs": [],
   "source": [
    "import pandas as pd\n",
    "import numpy as np\n",
    "df=pd.read_csv(\"combined.csv\")\n",
    "\n",
    "def convertToFloat(x):\n",
    "    x=x.strip()\n",
    "    if x==\"-\" or x==\"NR\" or x=='' or x==\".\" or x==\"\" or x==' ':\n",
    "        return 0.01\n",
    "    else:\n",
    "        \n",
    "        return float(x)"
   ]
  },
  {
   "cell_type": "code",
   "execution_count": 157,
   "metadata": {},
   "outputs": [],
   "source": [
    "df[\"rain\"]=df[\"Rain\"].apply(convertToFloat)\n",
    "import datetime\n",
    "df[\"month\"]=df[\"Date\"].apply(lambda x:datetime.datetime.strptime(x,\"%Y-%m-%d\").month)\n",
    "df[\"year\"]=df[\"Date\"].apply(lambda x: datetime.datetime.strptime(x,\"%Y-%m-%d\").year)\n",
    "df[\"day\"]=df[\"Date\"].apply(lambda x: datetime.datetime.strptime(x,\"%Y-%m-%d\").day)"
   ]
  },
  {
   "cell_type": "code",
   "execution_count": 158,
   "metadata": {},
   "outputs": [],
   "source": [
    "def isRain(x):\n",
    "    if x!=0.01:\n",
    "        return 1\n",
    "    else:\n",
    "        return 0"
   ]
  },
  {
   "cell_type": "code",
   "execution_count": 159,
   "metadata": {},
   "outputs": [],
   "source": [
    "df[\"is_rain\"]=df[\"rain\"].apply(isRain)"
   ]
  },
  {
   "cell_type": "code",
   "execution_count": 160,
   "metadata": {},
   "outputs": [],
   "source": [
    "dummydf=pd.get_dummies(df[[\"District\",\"rain\",\"month\",\"day\",\"year\",\"is_rain\"]])"
   ]
  },
  {
   "cell_type": "code",
   "execution_count": 146,
   "metadata": {},
   "outputs": [],
   "source": [
    "Al_df=df[df.District==\"Alangayam\"][[\"rain\",\"month\",\"day\",\"year\",\"is_rain\"]]"
   ]
  },
  {
   "cell_type": "code",
   "execution_count": 161,
   "metadata": {},
   "outputs": [],
   "source": [
    "y=dummydf.pop(\"rain\")\n",
    "x=dummydf"
   ]
  },
  {
   "cell_type": "code",
   "execution_count": 148,
   "metadata": {},
   "outputs": [],
   "source": [
    "y=Al_df.pop(\"rain\")\n",
    "x=Al_df\n",
    "X_train, X_test, y_train, y_test = train_test_split(x , y, test_size=0.33, random_state=42) "
   ]
  },
  {
   "cell_type": "code",
   "execution_count": 162,
   "metadata": {},
   "outputs": [],
   "source": [
    " from sklearn.model_selection import train_test_split\n",
    " from sklearn.preprocessing import StandardScaler"
   ]
  },
  {
   "cell_type": "code",
   "execution_count": 163,
   "metadata": {},
   "outputs": [],
   "source": [
    "X_train, X_test, y_train, y_test = train_test_split(x , y, test_size=0.33, random_state=42)"
   ]
  },
  {
   "cell_type": "code",
   "execution_count": 131,
   "metadata": {},
   "outputs": [],
   "source": [
    "scaler = StandardScaler()\n",
    "X_train=scaler.fit_transform(X_train)\n",
    "scaler2 = StandardScaler()\n",
    "\n",
    "X_test=scaler2.fit_transform(X_test)"
   ]
  },
  {
   "cell_type": "code",
   "execution_count": 164,
   "metadata": {},
   "outputs": [
    {
     "output_type": "execute_result",
     "data": {
      "text/plain": [
       "       month  day  year  is_rain  District_ACS Mill  District_Alangayam  \\\n",
       "29085      9   12  2016        0                  0                   0   \n",
       "23469      6    2  2015        1                  0                   0   \n",
       "26637      2   21  2016        0                  0                   0   \n",
       "1351       5    3  2010        0                  0                   0   \n",
       "1521       5   19  2010        0                  0                   0   \n",
       "...      ...  ...   ...      ...                ...                 ...   \n",
       "11284      8   21  2012        0                  0                   0   \n",
       "44732     10    6  2019        0                  0                   0   \n",
       "38158     10    6  2018        1                  0                   0   \n",
       "860        3   20  2010        0                  0                   0   \n",
       "15795      9    1  2013        0                  0                   0   \n",
       "\n",
       "       District_Ambur  District_Arakkonam  District_Arcot  \\\n",
       "29085               0                   0               0   \n",
       "23469               0                   0               0   \n",
       "26637               0                   0               0   \n",
       "1351                0                   0               0   \n",
       "1521                0                   0               1   \n",
       "...               ...                 ...             ...   \n",
       "11284               0                   1               0   \n",
       "44732               0                   0               0   \n",
       "38158               0                   1               0   \n",
       "860                 0                   1               0   \n",
       "15795               1                   0               0   \n",
       "\n",
       "       District_Gudiyatham  ...  District_Melalathur  District_Natrampalli  \\\n",
       "29085                    0  ...                    0                     0   \n",
       "23469                    0  ...                    0                     0   \n",
       "26637                    0  ...                    0                     0   \n",
       "1351                     0  ...                    0                     0   \n",
       "1521                     0  ...                    0                     0   \n",
       "...                    ...  ...                  ...                   ...   \n",
       "11284                    0  ...                    0                     0   \n",
       "44732                    0  ...                    1                     0   \n",
       "38158                    0  ...                    0                     0   \n",
       "860                      0  ...                    0                     0   \n",
       "15795                    0  ...                    0                     0   \n",
       "\n",
       "       District_Ponnai  District_Sholingur  District_TCS Mill  \\\n",
       "29085                0                   1                  0   \n",
       "23469                0                   1                  0   \n",
       "26637                0                   1                  0   \n",
       "1351                 0                   0                  0   \n",
       "1521                 0                   0                  0   \n",
       "...                ...                 ...                ...   \n",
       "11284                0                   0                  0   \n",
       "44732                0                   0                  0   \n",
       "38158                0                   0                  0   \n",
       "860                  0                   0                  0   \n",
       "15795                0                   0                  0   \n",
       "\n",
       "       District_Tirupattur  District_VCS Mill  District_Vaniyambadi  \\\n",
       "29085                    0                  0                     0   \n",
       "23469                    0                  0                     0   \n",
       "26637                    0                  0                     0   \n",
       "1351                     0                  0                     0   \n",
       "1521                     0                  0                     0   \n",
       "...                    ...                ...                   ...   \n",
       "11284                    0                  0                     0   \n",
       "44732                    0                  0                     0   \n",
       "38158                    0                  0                     0   \n",
       "860                      0                  0                     0   \n",
       "15795                    0                  0                     0   \n",
       "\n",
       "       District_Vellore  District_Wallajah  \n",
       "29085                 0                  0  \n",
       "23469                 0                  0  \n",
       "26637                 0                  0  \n",
       "1351                  1                  0  \n",
       "1521                  0                  0  \n",
       "...                 ...                ...  \n",
       "11284                 0                  0  \n",
       "44732                 0                  0  \n",
       "38158                 0                  0  \n",
       "860                   0                  0  \n",
       "15795                 0                  0  \n",
       "\n",
       "[31015 rows x 22 columns]"
      ],
      "text/html": "<div>\n<style scoped>\n    .dataframe tbody tr th:only-of-type {\n        vertical-align: middle;\n    }\n\n    .dataframe tbody tr th {\n        vertical-align: top;\n    }\n\n    .dataframe thead th {\n        text-align: right;\n    }\n</style>\n<table border=\"1\" class=\"dataframe\">\n  <thead>\n    <tr style=\"text-align: right;\">\n      <th></th>\n      <th>month</th>\n      <th>day</th>\n      <th>year</th>\n      <th>is_rain</th>\n      <th>District_ACS Mill</th>\n      <th>District_Alangayam</th>\n      <th>District_Ambur</th>\n      <th>District_Arakkonam</th>\n      <th>District_Arcot</th>\n      <th>District_Gudiyatham</th>\n      <th>...</th>\n      <th>District_Melalathur</th>\n      <th>District_Natrampalli</th>\n      <th>District_Ponnai</th>\n      <th>District_Sholingur</th>\n      <th>District_TCS Mill</th>\n      <th>District_Tirupattur</th>\n      <th>District_VCS Mill</th>\n      <th>District_Vaniyambadi</th>\n      <th>District_Vellore</th>\n      <th>District_Wallajah</th>\n    </tr>\n  </thead>\n  <tbody>\n    <tr>\n      <th>29085</th>\n      <td>9</td>\n      <td>12</td>\n      <td>2016</td>\n      <td>0</td>\n      <td>0</td>\n      <td>0</td>\n      <td>0</td>\n      <td>0</td>\n      <td>0</td>\n      <td>0</td>\n      <td>...</td>\n      <td>0</td>\n      <td>0</td>\n      <td>0</td>\n      <td>1</td>\n      <td>0</td>\n      <td>0</td>\n      <td>0</td>\n      <td>0</td>\n      <td>0</td>\n      <td>0</td>\n    </tr>\n    <tr>\n      <th>23469</th>\n      <td>6</td>\n      <td>2</td>\n      <td>2015</td>\n      <td>1</td>\n      <td>0</td>\n      <td>0</td>\n      <td>0</td>\n      <td>0</td>\n      <td>0</td>\n      <td>0</td>\n      <td>...</td>\n      <td>0</td>\n      <td>0</td>\n      <td>0</td>\n      <td>1</td>\n      <td>0</td>\n      <td>0</td>\n      <td>0</td>\n      <td>0</td>\n      <td>0</td>\n      <td>0</td>\n    </tr>\n    <tr>\n      <th>26637</th>\n      <td>2</td>\n      <td>21</td>\n      <td>2016</td>\n      <td>0</td>\n      <td>0</td>\n      <td>0</td>\n      <td>0</td>\n      <td>0</td>\n      <td>0</td>\n      <td>0</td>\n      <td>...</td>\n      <td>0</td>\n      <td>0</td>\n      <td>0</td>\n      <td>1</td>\n      <td>0</td>\n      <td>0</td>\n      <td>0</td>\n      <td>0</td>\n      <td>0</td>\n      <td>0</td>\n    </tr>\n    <tr>\n      <th>1351</th>\n      <td>5</td>\n      <td>3</td>\n      <td>2010</td>\n      <td>0</td>\n      <td>0</td>\n      <td>0</td>\n      <td>0</td>\n      <td>0</td>\n      <td>0</td>\n      <td>0</td>\n      <td>...</td>\n      <td>0</td>\n      <td>0</td>\n      <td>0</td>\n      <td>0</td>\n      <td>0</td>\n      <td>0</td>\n      <td>0</td>\n      <td>0</td>\n      <td>1</td>\n      <td>0</td>\n    </tr>\n    <tr>\n      <th>1521</th>\n      <td>5</td>\n      <td>19</td>\n      <td>2010</td>\n      <td>0</td>\n      <td>0</td>\n      <td>0</td>\n      <td>0</td>\n      <td>0</td>\n      <td>1</td>\n      <td>0</td>\n      <td>...</td>\n      <td>0</td>\n      <td>0</td>\n      <td>0</td>\n      <td>0</td>\n      <td>0</td>\n      <td>0</td>\n      <td>0</td>\n      <td>0</td>\n      <td>0</td>\n      <td>0</td>\n    </tr>\n    <tr>\n      <th>...</th>\n      <td>...</td>\n      <td>...</td>\n      <td>...</td>\n      <td>...</td>\n      <td>...</td>\n      <td>...</td>\n      <td>...</td>\n      <td>...</td>\n      <td>...</td>\n      <td>...</td>\n      <td>...</td>\n      <td>...</td>\n      <td>...</td>\n      <td>...</td>\n      <td>...</td>\n      <td>...</td>\n      <td>...</td>\n      <td>...</td>\n      <td>...</td>\n      <td>...</td>\n      <td>...</td>\n    </tr>\n    <tr>\n      <th>11284</th>\n      <td>8</td>\n      <td>21</td>\n      <td>2012</td>\n      <td>0</td>\n      <td>0</td>\n      <td>0</td>\n      <td>0</td>\n      <td>1</td>\n      <td>0</td>\n      <td>0</td>\n      <td>...</td>\n      <td>0</td>\n      <td>0</td>\n      <td>0</td>\n      <td>0</td>\n      <td>0</td>\n      <td>0</td>\n      <td>0</td>\n      <td>0</td>\n      <td>0</td>\n      <td>0</td>\n    </tr>\n    <tr>\n      <th>44732</th>\n      <td>10</td>\n      <td>6</td>\n      <td>2019</td>\n      <td>0</td>\n      <td>0</td>\n      <td>0</td>\n      <td>0</td>\n      <td>0</td>\n      <td>0</td>\n      <td>0</td>\n      <td>...</td>\n      <td>1</td>\n      <td>0</td>\n      <td>0</td>\n      <td>0</td>\n      <td>0</td>\n      <td>0</td>\n      <td>0</td>\n      <td>0</td>\n      <td>0</td>\n      <td>0</td>\n    </tr>\n    <tr>\n      <th>38158</th>\n      <td>10</td>\n      <td>6</td>\n      <td>2018</td>\n      <td>1</td>\n      <td>0</td>\n      <td>0</td>\n      <td>0</td>\n      <td>1</td>\n      <td>0</td>\n      <td>0</td>\n      <td>...</td>\n      <td>0</td>\n      <td>0</td>\n      <td>0</td>\n      <td>0</td>\n      <td>0</td>\n      <td>0</td>\n      <td>0</td>\n      <td>0</td>\n      <td>0</td>\n      <td>0</td>\n    </tr>\n    <tr>\n      <th>860</th>\n      <td>3</td>\n      <td>20</td>\n      <td>2010</td>\n      <td>0</td>\n      <td>0</td>\n      <td>0</td>\n      <td>0</td>\n      <td>1</td>\n      <td>0</td>\n      <td>0</td>\n      <td>...</td>\n      <td>0</td>\n      <td>0</td>\n      <td>0</td>\n      <td>0</td>\n      <td>0</td>\n      <td>0</td>\n      <td>0</td>\n      <td>0</td>\n      <td>0</td>\n      <td>0</td>\n    </tr>\n    <tr>\n      <th>15795</th>\n      <td>9</td>\n      <td>1</td>\n      <td>2013</td>\n      <td>0</td>\n      <td>0</td>\n      <td>0</td>\n      <td>1</td>\n      <td>0</td>\n      <td>0</td>\n      <td>0</td>\n      <td>...</td>\n      <td>0</td>\n      <td>0</td>\n      <td>0</td>\n      <td>0</td>\n      <td>0</td>\n      <td>0</td>\n      <td>0</td>\n      <td>0</td>\n      <td>0</td>\n      <td>0</td>\n    </tr>\n  </tbody>\n</table>\n<p>31015 rows × 22 columns</p>\n</div>"
     },
     "metadata": {},
     "execution_count": 164
    }
   ],
   "source": [
    "X_train"
   ]
  },
  {
   "cell_type": "code",
   "execution_count": 18,
   "metadata": {},
   "outputs": [
    {
     "output_type": "error",
     "ename": "ModuleNotFoundError",
     "evalue": "No module named 'xgboost'",
     "traceback": [
      "\u001b[1;31m---------------------------------------------------------------------------\u001b[0m",
      "\u001b[1;31mModuleNotFoundError\u001b[0m                       Traceback (most recent call last)",
      "\u001b[1;32m<ipython-input-18-3866fcdef3cc>\u001b[0m in \u001b[0;36m<module>\u001b[1;34m\u001b[0m\n\u001b[1;32m----> 1\u001b[1;33m \u001b[1;32mimport\u001b[0m \u001b[0mxgboost\u001b[0m \u001b[1;32mas\u001b[0m \u001b[0mxg\u001b[0m\u001b[1;33m\u001b[0m\u001b[1;33m\u001b[0m\u001b[0m\n\u001b[0m",
      "\u001b[1;31mModuleNotFoundError\u001b[0m: No module named 'xgboost'"
     ]
    }
   ],
   "source": [
    "import xgboost as xg"
   ]
  },
  {
   "cell_type": "code",
   "execution_count": null,
   "metadata": {},
   "outputs": [],
   "source": []
  },
  {
   "cell_type": "code",
   "execution_count": null,
   "metadata": {},
   "outputs": [],
   "source": [
    "!pip3 install xgboost"
   ]
  },
  {
   "cell_type": "code",
   "execution_count": 165,
   "metadata": {},
   "outputs": [],
   "source": [
    "from sklearn.linear_model import LinearRegression"
   ]
  },
  {
   "cell_type": "code",
   "execution_count": 166,
   "metadata": {},
   "outputs": [],
   "source": [
    "reg = LinearRegression().fit(X_train, y_train)"
   ]
  },
  {
   "cell_type": "code",
   "execution_count": 167,
   "metadata": {},
   "outputs": [
    {
     "output_type": "execute_result",
     "data": {
      "text/plain": [
       "2.1710671472047034"
      ]
     },
     "metadata": {},
     "execution_count": 167
    }
   ],
   "source": [
    "from sklearn.metrics import mean_absolute_error\n",
    "mean_absolute_error(y_test,reg.predict(X_test))"
   ]
  },
  {
   "cell_type": "code",
   "execution_count": 128,
   "metadata": {},
   "outputs": [
    {
     "output_type": "execute_result",
     "data": {
      "text/plain": [
       "0.0"
      ]
     },
     "metadata": {},
     "execution_count": 128
    }
   ],
   "source": [
    "max(y_test[0])"
   ]
  },
  {
   "cell_type": "code",
   "execution_count": 104,
   "metadata": {},
   "outputs": [
    {
     "output_type": "execute_result",
     "data": {
      "text/plain": [
       "array([ 0.21894508, 12.46740162, -0.14647121, ..., 12.94425225,\n",
       "        0.38613749,  0.3628996 ])"
      ]
     },
     "metadata": {},
     "execution_count": 104
    }
   ],
   "source": [
    "reg.predict(X_train)"
   ]
  },
  {
   "cell_type": "code",
   "execution_count": 31,
   "metadata": {},
   "outputs": [],
   "source": [
    "import xgboost as xg"
   ]
  },
  {
   "cell_type": "code",
   "execution_count": 118,
   "metadata": {},
   "outputs": [
    {
     "output_type": "execute_result",
     "data": {
      "text/plain": [
       "array([[0., 0., 0., ..., 0., 0., 0.]])"
      ]
     },
     "metadata": {},
     "execution_count": 118
    }
   ],
   "source": [
    "y_train"
   ]
  },
  {
   "cell_type": "code",
   "execution_count": 184,
   "metadata": {},
   "outputs": [
    {
     "output_type": "stream",
     "name": "stdout",
     "text": [
      "[16:34:31] WARNING: C:/Users/Administrator/workspace/xgboost-win64_release_1.4.0/src/objective/regression_obj.cu:171: reg:linear is now deprecated in favor of reg:squarederror.\n"
     ]
    },
    {
     "output_type": "execute_result",
     "data": {
      "text/plain": [
       "XGBRegressor(base_score=0.5, booster='gbtree', colsample_bylevel=1,\n",
       "             colsample_bynode=1, colsample_bytree=1, gamma=0, gpu_id=-1,\n",
       "             importance_type='gain', interaction_constraints='',\n",
       "             learning_rate=0.300000012, max_delta_step=0, max_depth=20,\n",
       "             min_child_weight=1, missing=nan, monotone_constraints='()',\n",
       "             n_estimators=50, n_jobs=12, num_parallel_tree=1,\n",
       "             objective='reg:linear', random_state=123, reg_alpha=0,\n",
       "             reg_lambda=1, scale_pos_weight=1, seed=123, subsample=1,\n",
       "             tree_method='exact', validate_parameters=1, verbosity=None)"
      ]
     },
     "metadata": {},
     "execution_count": 184
    }
   ],
   "source": [
    "xgb_r = xg.XGBRegressor(objective ='reg:linear',\n",
    "                  n_estimators = 50, seed = 123,max_depth=20)\n",
    "   \n",
    "# Fitting the model\n",
    "xgb_r.fit(X_train, y_train)"
   ]
  },
  {
   "cell_type": "code",
   "execution_count": 185,
   "metadata": {},
   "outputs": [
    {
     "output_type": "stream",
     "name": "stderr",
     "text": [
      "C:\\Users\\om purohit\\anaconda3\\lib\\site-packages\\xgboost\\data.py:112: UserWarning: Use subset (sliced data) of np.ndarray is not recommended because it will generate extra copies and increase memory consumption\n  warnings.warn(\n"
     ]
    }
   ],
   "source": [
    "pred = xgb_r.predict(X_test)\n"
   ]
  },
  {
   "cell_type": "code",
   "execution_count": 35,
   "metadata": {},
   "outputs": [],
   "source": [
    "def mean_absolute_percentage_error(y_true, y_pred): \n",
    "    # y_true, y_pred = check_arrays(y_true, y_pred)\n",
    "\n",
    "    ## Note: does not handle mix 1d representation\n",
    "    #if _is_1d(y_true): \n",
    "    #    y_true, y_pred = _check_1d_array(y_true, y_pred)\n",
    "\n",
    "    return np.mean(np.abs((y_true - y_pred) / y_true)) * 100"
   ]
  },
  {
   "cell_type": "code",
   "execution_count": 41,
   "metadata": {},
   "outputs": [
    {
     "output_type": "execute_result",
     "data": {
      "text/plain": [
       "inf"
      ]
     },
     "metadata": {},
     "execution_count": 41
    }
   ],
   "source": [
    "mean_absolute_percentage_error( y_train,pred)"
   ]
  },
  {
   "cell_type": "code",
   "execution_count": 140,
   "metadata": {},
   "outputs": [
    {
     "output_type": "execute_result",
     "data": {
      "text/plain": [
       "1.63591009423641"
      ]
     },
     "metadata": {},
     "execution_count": 140
    }
   ],
   "source": [
    "mean_absolute_error(y_test,pred)"
   ]
  },
  {
   "cell_type": "code",
   "execution_count": 173,
   "metadata": {},
   "outputs": [
    {
     "output_type": "stream",
     "name": "stderr",
     "text": [
      "C:\\Users\\om purohit\\anaconda3\\lib\\site-packages\\xgboost\\data.py:112: UserWarning: Use subset (sliced data) of np.ndarray is not recommended because it will generate extra copies and increase memory consumption\n  warnings.warn(\n"
     ]
    }
   ],
   "source": [
    "pred_test=xgb_r.predict(X_test)"
   ]
  },
  {
   "cell_type": "code",
   "execution_count": 174,
   "metadata": {},
   "outputs": [
    {
     "output_type": "execute_result",
     "data": {
      "text/plain": [
       "1.8033440438697161"
      ]
     },
     "metadata": {},
     "execution_count": 174
    }
   ],
   "source": [
    "mean_absolute_error(y_test,pred_test)"
   ]
  },
  {
   "cell_type": "code",
   "execution_count": 73,
   "metadata": {},
   "outputs": [],
   "source": [
    "d={\"orig\":y_test,\"pred_test\":pred_test}\n",
    "preddf=pd.DataFrame(d)"
   ]
  },
  {
   "cell_type": "code",
   "execution_count": 74,
   "metadata": {},
   "outputs": [
    {
     "output_type": "execute_result",
     "data": {
      "text/plain": [
       "        orig  pred_test\n",
       "8140   56.00  25.875324\n",
       "2059    4.20  18.684149\n",
       "16460  11.08   8.325056\n",
       "34059   1.20  27.906496\n",
       "33698   3.60   4.866726\n",
       "...      ...        ...\n",
       "33197   5.00  11.482909\n",
       "16177   8.40   5.265359\n",
       "6594   25.40  17.836197\n",
       "32460  26.80  26.967621\n",
       "12538   7.00   8.415070\n",
       "\n",
       "[2960 rows x 2 columns]"
      ],
      "text/html": "<div>\n<style scoped>\n    .dataframe tbody tr th:only-of-type {\n        vertical-align: middle;\n    }\n\n    .dataframe tbody tr th {\n        vertical-align: top;\n    }\n\n    .dataframe thead th {\n        text-align: right;\n    }\n</style>\n<table border=\"1\" class=\"dataframe\">\n  <thead>\n    <tr style=\"text-align: right;\">\n      <th></th>\n      <th>orig</th>\n      <th>pred_test</th>\n    </tr>\n  </thead>\n  <tbody>\n    <tr>\n      <th>8140</th>\n      <td>56.00</td>\n      <td>25.875324</td>\n    </tr>\n    <tr>\n      <th>2059</th>\n      <td>4.20</td>\n      <td>18.684149</td>\n    </tr>\n    <tr>\n      <th>16460</th>\n      <td>11.08</td>\n      <td>8.325056</td>\n    </tr>\n    <tr>\n      <th>34059</th>\n      <td>1.20</td>\n      <td>27.906496</td>\n    </tr>\n    <tr>\n      <th>33698</th>\n      <td>3.60</td>\n      <td>4.866726</td>\n    </tr>\n    <tr>\n      <th>...</th>\n      <td>...</td>\n      <td>...</td>\n    </tr>\n    <tr>\n      <th>33197</th>\n      <td>5.00</td>\n      <td>11.482909</td>\n    </tr>\n    <tr>\n      <th>16177</th>\n      <td>8.40</td>\n      <td>5.265359</td>\n    </tr>\n    <tr>\n      <th>6594</th>\n      <td>25.40</td>\n      <td>17.836197</td>\n    </tr>\n    <tr>\n      <th>32460</th>\n      <td>26.80</td>\n      <td>26.967621</td>\n    </tr>\n    <tr>\n      <th>12538</th>\n      <td>7.00</td>\n      <td>8.415070</td>\n    </tr>\n  </tbody>\n</table>\n<p>2960 rows × 2 columns</p>\n</div>"
     },
     "metadata": {},
     "execution_count": 74
    }
   ],
   "source": [
    "preddf[preddf[\"orig\"]!=0.0]"
   ]
  },
  {
   "cell_type": "code",
   "execution_count": 179,
   "metadata": {},
   "outputs": [],
   "source": [
    "from sklearn.svm import LinearSVR\n",
    "eps = 5\n",
    "svr = LinearSVR(epsilon=eps, C=0.01, fit_intercept=True)"
   ]
  },
  {
   "cell_type": "code",
   "execution_count": 180,
   "metadata": {},
   "outputs": [
    {
     "output_type": "stream",
     "name": "stderr",
     "text": [
      "C:\\Users\\om purohit\\anaconda3\\lib\\site-packages\\sklearn\\svm\\_base.py:976: ConvergenceWarning: Liblinear failed to converge, increase the number of iterations.\n  warnings.warn(\"Liblinear failed to converge, increase \"\n"
     ]
    },
    {
     "output_type": "execute_result",
     "data": {
      "text/plain": [
       "LinearSVR(C=0.01, epsilon=5)"
      ]
     },
     "metadata": {},
     "execution_count": 180
    }
   ],
   "source": [
    "svr.fit(X_train,y_train)"
   ]
  },
  {
   "cell_type": "code",
   "execution_count": 183,
   "metadata": {},
   "outputs": [
    {
     "output_type": "execute_result",
     "data": {
      "text/plain": [
       "5.816683235951595"
      ]
     },
     "metadata": {},
     "execution_count": 183
    }
   ],
   "source": [
    "mean_absolute_error(y_test,svr.predict(X_test))"
   ]
  },
  {
   "cell_type": "code",
   "execution_count": 186,
   "metadata": {},
   "outputs": [
    {
     "output_type": "execute_result",
     "data": {
      "text/plain": [
       "50.42033054947053"
      ]
     },
     "metadata": {},
     "execution_count": 186
    }
   ],
   "source": [
    "from sklearn.metrics import mean_squared_error\n",
    "mean_squared_error(y_test,pred)"
   ]
  },
  {
   "cell_type": "code",
   "execution_count": null,
   "metadata": {},
   "outputs": [],
   "source": []
  }
 ]
}