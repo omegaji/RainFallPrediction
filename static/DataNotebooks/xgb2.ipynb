{
 "metadata": {
  "language_info": {
   "codemirror_mode": {
    "name": "ipython",
    "version": 3
   },
   "file_extension": ".py",
   "mimetype": "text/x-python",
   "name": "python",
   "nbconvert_exporter": "python",
   "pygments_lexer": "ipython3",
   "version": "3.8.3"
  },
  "orig_nbformat": 2,
  "kernelspec": {
   "name": "python383jvsc74a57bd04679094c71e58fd5daa32654c6d4dcc218cb243910207196539a7dfc04a8a332",
   "display_name": "Python 3.8.3 64-bit (conda)"
  }
 },
 "nbformat": 4,
 "nbformat_minor": 2,
 "cells": [
  {
   "cell_type": "code",
   "execution_count": 1,
   "metadata": {},
   "outputs": [],
   "source": [
    "import pandas as pd\n",
    "import numpy as np\n",
    "df=pd.read_csv(\"combined.csv\")\n",
    "\n",
    "def convertToFloat(x):\n",
    "    x=x.strip()\n",
    "    if x==\"-\" or x==\"NR\" or x=='' or x==\".\" or x==\"\" or x==' ':\n",
    "        return 0.01\n",
    "    else:\n",
    "        \n",
    "        return float(x)\n",
    "\n",
    "def convertToFloat2(x):\n",
    "    x=x.strip()\n",
    "    if x==\"-\" or x==\"NR\" or x=='' or x==\".\" or x==\"\" or x==' ':\n",
    "        return 0\n",
    "    else:\n",
    "        \n",
    "        return float(x)\n",
    "\n",
    "\n",
    "df[\"rain\"]=df[\"Rain\"].apply(convertToFloat2)\n",
    "import datetime\n",
    "df[\"month\"]=df[\"Date\"].apply(lambda x:datetime.datetime.strptime(x,\"%Y-%m-%d\").month)\n",
    "df[\"year\"]=df[\"Date\"].apply(lambda x: datetime.datetime.strptime(x,\"%Y-%m-%d\").year)\n",
    "df[\"day\"]=df[\"Date\"].apply(lambda x: datetime.datetime.strptime(x,\"%Y-%m-%d\").day)\n",
    "\n",
    "\n",
    "\n",
    "\n",
    "def SparseMeasure(x):\n",
    "    if x ==1 or x==3:\n",
    "        return 0\n",
    "    elif x==2 or x==4 or x==12:\n",
    "        return 1\n",
    "    elif x==5 or x==6:\n",
    "        return 2\n",
    "    elif x==7 or x==10:\n",
    "        return 3\n",
    "    else: \n",
    "        return 4\n",
    "\n",
    "def meandictfunc(row):\n",
    "    daymonth=str(row[\"day\"])+\"_\"+str(row[\"month\"])\n",
    "    meanval=meandict[daymonth]\n",
    "    return meanval\n",
    "\n",
    "def isRain2(x):\n",
    "    if x>100:\n",
    "        return 5\n",
    "    if x>50:\n",
    "        return 4\n",
    "    if x>25:\n",
    "        return 3\n",
    "    if x>2:\n",
    "        return 2\n",
    "    elif x!=0:\n",
    "        return 1\n",
    " \n",
    "    else:\n",
    "        return 0\n",
    "def get_season(x):\n",
    "    if x>=1 or x<=4:\n",
    "        return 0\n",
    "    elif x>=5 or x<=9:\n",
    "        return 2\n",
    "    elif x>9 or x<12:\n",
    "        return 1\n",
    "    else:\n",
    "        return 0\n",
    "def isSparse(row):\n",
    "    daymonth=str(row[\"day\"])+\"_\"+str(row[\"month\"])\n",
    "    val=meandict[daymonth]\n",
    "    if val<1:\n",
    "        return 0\n",
    "    elif val>=1 or val<2.5:\n",
    "        return 4\n",
    "    elif val>=2.5 or val<4:\n",
    "        return 8\n",
    "    else:\n",
    "        return 12\n",
    "\n",
    "def lastseventh(row):\n",
    "    daymonth=str(row[\"day\"])+\"_\"+str(row[\"month\"])\n",
    "    val=MonDay[daymonth][-7]\n",
    "    if val==0:\n",
    "        return 0\n",
    "    else:\n",
    "        return np.log(val)\n",
    "    return val\n",
    "def lastsixth(row):\n",
    "    daymonth=str(row[\"day\"])+\"_\"+str(row[\"month\"])\n",
    "    val=MonDay[daymonth][-6]\n",
    "    if val==0:\n",
    "        return 0\n",
    "    else:\n",
    "        return np.log(val)\n",
    "    return val\n",
    "    \n",
    "def lastfifth(row):\n",
    "    daymonth=str(row[\"day\"])+\"_\"+str(row[\"month\"])\n",
    "    val=MonDay[daymonth][-5]\n",
    "    if val==0:\n",
    "        return 0\n",
    "    else:\n",
    "        return np.log(val)\n",
    "    return val\n",
    "\n",
    " \n",
    "def lastfourth(row):\n",
    "    daymonth=str(row[\"day\"])+\"_\"+str(row[\"month\"])\n",
    "    val=MonDay[daymonth][-4]\n",
    "    if val==0:\n",
    "        return 0\n",
    "    else:\n",
    "        return np.log(val)\n",
    "    return val\n",
    "\n",
    "def lastthrid(row):\n",
    "    daymonth=str(row[\"day\"])+\"_\"+str(row[\"month\"])\n",
    "    val=MonDay[daymonth][-3]\n",
    "    if val==0:\n",
    "        return 0\n",
    "    else:\n",
    "        return np.log(val)\n",
    "    return val\n",
    "\n",
    "def lastsecond(row):\n",
    "    daymonth=str(row[\"day\"])+\"_\"+str(row[\"month\"])\n",
    "    val=MonDay[daymonth][-2]\n",
    "    if val==0:\n",
    "        return 0\n",
    "    else:\n",
    "        return np.log(val)\n",
    "    return val\n",
    "\n",
    "def lastfirst(row):\n",
    "    daymonth=str(row[\"day\"])+\"_\"+str(row[\"month\"])\n",
    "    val=MonDay[daymonth][-1]\n",
    "    if val==0:\n",
    "        return 0\n",
    "    else:\n",
    "        return np.log(val)\n",
    "    return val\n",
    "def last(row,k):\n",
    "    daymonth=str(row[\"District\"])+\"_\"+str(row[\"day\"])+\"_\"+str(row[\"month\"])\n",
    "    if k<len(MonDay[daymonth]):\n",
    "        val=MonDay[daymonth][-k]\n",
    "    else:\n",
    "        val=0\n",
    "    final=isRain2(val)\n",
    "    return final\n",
    "    \n"
   ]
  },
  {
   "cell_type": "code",
   "execution_count": 2,
   "metadata": {},
   "outputs": [],
   "source": [
    "df.to_csv(\"converted.csv\",index=False)"
   ]
  },
  {
   "cell_type": "code",
   "execution_count": 3,
   "metadata": {},
   "outputs": [],
   "source": [
    "yearlist=df.year.unique()\n",
    "MonDay={}\n",
    "for year in yearlist:\n",
    "    yeardf=df[df.year==year]\n",
    "    for frame,row in yeardf.iterrows():\n",
    "        monthday=str(row[\"District\"])+\"_\"+str(row[\"day\"])+\"_\"+str(row[\"month\"])\n",
    "        if monthday not in MonDay.keys():\n",
    "            MonDay[monthday]=[]\n",
    "        \n",
    "        MonDay[monthday].append(row[\"rain\"])\n",
    "\n",
    "meandict={}\n",
    "for key in MonDay.keys():\n",
    "    themean=np.mean(np.array(MonDay[key]))\n",
    "    if themean==0.0:\n",
    "        meandict[key]=themean\n",
    "    else:\n",
    "        meandict[key]=themean"
   ]
  },
  {
   "cell_type": "code",
   "execution_count": 5,
   "metadata": {},
   "outputs": [
    {
     "output_type": "execute_result",
     "data": {
      "text/plain": [
       "10"
      ]
     },
     "metadata": {},
     "execution_count": 5
    }
   ],
   "source": [
    "len(MonDay[\"Alangayam_10_6\"])"
   ]
  },
  {
   "cell_type": "code",
   "execution_count": 9,
   "metadata": {},
   "outputs": [],
   "source": [
    "df[\"is_rain\"]=df[\"month\"].apply(get_season)\n",
    "# df[\"sparse1\"]=df.apply(lastfirst,axis=1)\n",
    "# df[\"sparse2\"]=df.apply(lastsecond,axis=1)\n",
    "# df[\"sparse3\"]=df.apply(lastthrid,axis=1)\n",
    "# df[\"sparse4\"]=df.apply(lastfourth,axis=1)\n",
    "# df[\"sparse5\"]=df.apply(lastfifth,axis=1)\n",
    "# df[\"sparse6\"]=df.apply(lastsixth,axis=1)\n",
    "# df[\"sparse7\"]=df.apply(lastseventh,axis=1)\n",
    "for i in range(1,9):\n",
    "    sparse=\"sparse\"+str(i)\n",
    "    df[sparse]=df.apply(last,k=i,axis=1)\n",
    "# df[\"sparse\"]=df.apply(isSparse,axis=1)"
   ]
  },
  {
   "cell_type": "code",
   "execution_count": 186,
   "metadata": {},
   "outputs": [
    {
     "output_type": "execute_result",
     "data": {
      "text/plain": [
       "0"
      ]
     },
     "metadata": {},
     "execution_count": 186
    }
   ],
   "source": [
    "min(df[\"sparse8\"])"
   ]
  },
  {
   "cell_type": "code",
   "execution_count": 140,
   "metadata": {},
   "outputs": [],
   "source": [
    "df[\"new2\"]=df.apply(meandictfunc,axis=1)\n",
    "# df[\"rain\"]=df[\"rain\"].apply(lambda x: np.log(x))\n",
    "# df[\"year\"]=df[\"year\"].apply(lambda x: np.log(x))\n",
    "# df[\"new2\"].apply(lambda x: np.log(x))\n",
    "# df[\"new\"]=df[\"month\"].apply(SparseMeasure)\n"
   ]
  },
  {
   "cell_type": "code",
   "execution_count": 10,
   "metadata": {},
   "outputs": [],
   "source": [
    "dummydf=pd.get_dummies(df[[\"District\",\"rain\",\"month\",\"day\",\"year\",\"sparse1\",\"sparse2\",\"sparse3\",\"sparse4\",\"sparse5\",\"sparse6\",\"sparse7\",\"sparse8\"]])\n",
    "# dummydf=pd.get_dummies(df[[\"District\",\"rain\",\"month\",\"day\",\"year\"]])\n"
   ]
  },
  {
   "cell_type": "code",
   "execution_count": 11,
   "metadata": {},
   "outputs": [],
   "source": [
    "y=dummydf.pop(\"rain\")\n",
    "x=dummydf\n",
    "\n",
    "from sklearn.model_selection import train_test_split\n",
    "from sklearn.preprocessing import MinMaxScaler\n",
    "X_train, X_test, y_train, y_test = train_test_split(x , y, test_size=0.33, random_state=42)"
   ]
  },
  {
   "cell_type": "code",
   "execution_count": 4,
   "metadata": {
    "tags": []
   },
   "outputs": [],
   "source": [
    "import xgboost as xg\n",
    "xgb_r = xg.XGBRegressor(objective ='reg:squarederror',    \n",
    "                  n_estimators =3, seed = 123,max_depth=35,eta=0.3)\n",
    "   \n",
    "# Fitting the model\n",
    "# xgb_r.fit(X_train, y_train)"
   ]
  },
  {
   "cell_type": "code",
   "execution_count": 37,
   "metadata": {},
   "outputs": [
    {
     "output_type": "stream",
     "name": "stdout",
     "text": [
      "16.80917898736388\n",
      "32.780520991666066\n",
      "1.5726110230848696\n",
      "C:\\Users\\om purohit\\anaconda3\\lib\\site-packages\\xgboost\\data.py:112: UserWarning: Use subset (sliced data) of np.ndarray is not recommended because it will generate extra copies and increase memory consumption\n",
      "  warnings.warn(\n"
     ]
    }
   ],
   "source": [
    "from sklearn.metrics import mean_absolute_error\n",
    "pred=xgb_r.predict(X_test)\n",
    "predtrain=xgb_r.predict(X_train)\n",
    "for i in range(len(pred)):\n",
    "    if pred[i]<=1:\n",
    "        pred[i]=0\n",
    "for i in range(len(predtrain)):\n",
    "    if predtrain[i]<=1:\n",
    "        predtrain[i]=0\n",
    "from sklearn.metrics import mean_squared_error\n",
    "print(mean_squared_error(y_train,predtrain))\n",
    "print(mean_squared_error(y_test,pred) )\n",
    "print(mean_absolute_error(y_test,pred))\n"
   ]
  },
  {
   "cell_type": "code",
   "execution_count": 39,
   "metadata": {},
   "outputs": [
    {
     "output_type": "execute_result",
     "data": {
      "text/plain": [
       "array([[ 0.        ,  0.        ],\n",
       "       [ 0.        ,  0.        ],\n",
       "       [ 1.2       ,  0.        ],\n",
       "       [ 0.        ,  0.        ],\n",
       "       [ 3.6       , 11.59256268],\n",
       "       [ 0.        ,  0.        ],\n",
       "       [ 0.        ,  0.        ],\n",
       "       [ 0.        ,  0.        ],\n",
       "       [ 0.        ,  0.        ],\n",
       "       [13.        ,  3.37072515],\n",
       "       [ 3.2       ,  2.44795179],\n",
       "       [45.4       ,  0.        ],\n",
       "       [ 0.        ,  0.        ],\n",
       "       [ 0.        ,  0.        ],\n",
       "       [ 0.        ,  0.        ],\n",
       "       [ 0.        ,  0.        ],\n",
       "       [49.        , 22.95454025],\n",
       "       [ 3.        ,  4.80077457],\n",
       "       [14.8       ,  3.11541271],\n",
       "       [ 2.9       ,  0.        ],\n",
       "       [ 1.2       ,  0.        ],\n",
       "       [ 0.        ,  0.        ],\n",
       "       [40.2       , 19.51211929],\n",
       "       [ 0.        ,  0.        ],\n",
       "       [ 6.9       ,  3.74354482],\n",
       "       [ 0.        ,  0.        ],\n",
       "       [ 0.        ,  0.        ],\n",
       "       [ 0.        ,  0.        ],\n",
       "       [ 0.        ,  0.        ],\n",
       "       [ 0.        ,  0.        ]])"
      ]
     },
     "metadata": {},
     "execution_count": 39
    }
   ],
   "source": [
    "d={\"orig\":y_test,\"pred_test\":pred}\n",
    "preddf=pd.DataFrame(d)\n",
    "\n",
    "\n",
    "preddf[10:40].values"
   ]
  },
  {
   "cell_type": "code",
   "execution_count": 175,
   "metadata": {},
   "outputs": [
    {
     "output_type": "execute_result",
     "data": {
      "text/plain": [
       "2.7467226615210842"
      ]
     },
     "metadata": {},
     "execution_count": 175
    }
   ],
   "source": [
    "mean_absolute_error(preddf[\"orig\"],preddf[\"pred_test\"])"
   ]
  },
  {
   "cell_type": "code",
   "execution_count": 40,
   "metadata": {},
   "outputs": [],
   "source": [
    "\n",
    "xgb_r.save_model(\"modelsxgb.json\")"
   ]
  },
  {
   "cell_type": "code",
   "execution_count": 6,
   "metadata": {},
   "outputs": [],
   "source": [
    "loadtest = xg.XGBRegressor(objective ='reg:squarederror',    \n",
    "                  n_estimators =3, seed = 123,max_depth=35,eta=0.3)\n",
    "   "
   ]
  },
  {
   "cell_type": "code",
   "execution_count": 7,
   "metadata": {},
   "outputs": [],
   "source": [
    "loadtest.load_model(\"modelsxgb.json\")"
   ]
  },
  {
   "cell_type": "code",
   "execution_count": 19,
   "metadata": {},
   "outputs": [
    {
     "output_type": "stream",
     "name": "stdout",
     "text": [
      "[0, 0, 0, 0, 0, 0, 0, 0, 0, 0, 0, 0, 0, 0, 0, 0, 0, 0, 0, 0, 0, 0, 0, 0, 0, 0, 0, 0, 0]\n"
     ]
    },
    {
     "output_type": "execute_result",
     "data": {
      "text/plain": [
       "0.1742031"
      ]
     },
     "metadata": {},
     "execution_count": 19
    }
   ],
   "source": [
    "import numpy as np\n",
    "tt=[0]*29\n",
    "print(tt)\n",
    "loadtest.predict(np.array([np.array(tt)]))[0]"
   ]
  },
  {
   "cell_type": "code",
   "execution_count": 18,
   "metadata": {},
   "outputs": [
    {
     "output_type": "execute_result",
     "data": {
      "text/plain": [
       "[1, 2, 3, 4, 5, 6]"
      ]
     },
     "metadata": {},
     "execution_count": 18
    }
   ],
   "source": [
    "x=[1,2,3]\n",
    "x.extend([4,5,6])\n",
    "x"
   ]
  },
  {
   "cell_type": "code",
   "execution_count": 206,
   "metadata": {},
   "outputs": [
    {
     "output_type": "execute_result",
     "data": {
      "text/plain": [
       "70.63919713812233"
      ]
     },
     "metadata": {},
     "execution_count": 206
    }
   ],
   "source": [
    "from sklearn.linear_model import LinearRegression\n",
    "reg = LinearRegression().fit(X_train, y_train)\n",
    "predreg=reg.predict(X_test)\n",
    "mean_absolute_error(y_test,predreg)\n",
    "mean_squared_error(y_test,predreg)"
   ]
  },
  {
   "cell_type": "code",
   "execution_count": 182,
   "metadata": {},
   "outputs": [
    {
     "output_type": "stream",
     "name": "stderr",
     "text": [
      "C:\\Users\\om purohit\\anaconda3\\lib\\site-packages\\sklearn\\svm\\_base.py:976: ConvergenceWarning: Liblinear failed to converge, increase the number of iterations.\n  warnings.warn(\"Liblinear failed to converge, increase \"\n"
     ]
    },
    {
     "output_type": "execute_result",
     "data": {
      "text/plain": [
       "5.279284447484633"
      ]
     },
     "metadata": {},
     "execution_count": 182
    }
   ],
   "source": [
    "from sklearn.svm import LinearSVR\n",
    "eps = 5\n",
    "svr = LinearSVR(epsilon=eps, C=0.1,)\n",
    "svr.fit(X_train,y_train)\n",
    "predsvr=svr.predict(X_test)\n",
    "for i in range(len(predsvr)):\n",
    "    if predsvr[i]<1:\n",
    "        predsvr[i]=0\n",
    "mean_absolute_error(y_test,predsvr)"
   ]
  },
  {
   "cell_type": "code",
   "execution_count": 62,
   "metadata": {},
   "outputs": [
    {
     "output_type": "execute_result",
     "data": {
      "text/plain": [
       "0.0"
      ]
     },
     "metadata": {},
     "execution_count": 62
    }
   ],
   "source": [
    "meandict[\"2_1\"]\n"
   ]
  },
  {
   "cell_type": "code",
   "execution_count": 41,
   "metadata": {},
   "outputs": [],
   "source": [
    "import pickle\n",
    "\n",
    "with open('DayMon.json', 'wb') as fp:\n",
    "    pickle.dump(MonDay, fp)"
   ]
  },
  {
   "cell_type": "code",
   "execution_count": 2,
   "metadata": {},
   "outputs": [],
   "source": [
    "import pickle\n",
    "with open(\"DayMon.json\",\"rb\") as fp:\n",
    "    toprint=pickle.load(fp)"
   ]
  },
  {
   "cell_type": "code",
   "execution_count": 3,
   "metadata": {},
   "outputs": [
    {
     "output_type": "execute_result",
     "data": {
      "text/plain": [
       "ill_15_3', 'Ponnai_15_3', 'Katpadi_16_3', 'Natrampalli_16_3', 'TCS Mill_16_3', 'ACS Mill_16_3', 'VCS Mill_16_3', 'Ponnai_16_3', 'Katpadi_17_3', 'Natrampalli_17_3', 'TCS Mill_17_3', 'ACS Mill_17_3', 'VCS Mill_17_3', 'Ponnai_17_3', 'Katpadi_18_3', 'Natrampalli_18_3', 'TCS Mill_18_3', 'ACS Mill_18_3', 'VCS Mill_18_3', 'Ponnai_18_3', 'Katpadi_19_3', 'Natrampalli_19_3', 'TCS Mill_19_3', 'ACS Mill_19_3', 'VCS Mill_19_3', 'Ponnai_19_3', 'Katpadi_20_3', 'Natrampalli_20_3', 'TCS Mill_20_3', 'ACS Mill_20_3', 'VCS Mill_20_3', 'Ponnai_20_3', 'Katpadi_21_3', 'Natrampalli_21_3', 'TCS Mill_21_3', 'ACS Mill_21_3', 'VCS Mill_21_3', 'Ponnai_21_3', 'Katpadi_22_3', 'Natrampalli_22_3', 'TCS Mill_22_3', 'ACS Mill_22_3', 'VCS Mill_22_3', 'Ponnai_22_3', 'Katpadi_23_3', 'Natrampalli_23_3', 'TCS Mill_23_3', 'ACS Mill_23_3', 'VCS Mill_23_3', 'Ponnai_23_3', 'Katpadi_24_3', 'Natrampalli_24_3', 'TCS Mill_24_3', 'ACS Mill_24_3', 'VCS Mill_24_3', 'Ponnai_24_3', 'Katpadi_25_3', 'Natrampalli_25_3', 'TCS Mill_25_3', 'ACS Mill_25_3', 'VCS Mill_25_3', 'Ponnai_25_3', 'Katpadi_26_3', 'Natrampalli_26_3', 'TCS Mill_26_3', 'ACS Mill_26_3', 'VCS Mill_26_3', 'Ponnai_26_3', 'Katpadi_27_3', 'Natrampalli_27_3', 'TCS Mill_27_3', 'ACS Mill_27_3', 'VCS Mill_27_3', 'Ponnai_27_3', 'Katpadi_28_3', 'Natrampalli_28_3', 'TCS Mill_28_3', 'ACS Mill_28_3', 'VCS Mill_28_3', 'Ponnai_28_3', 'Katpadi_29_3', 'Natrampalli_29_3', 'TCS Mill_29_3', 'ACS Mill_29_3', 'VCS Mill_29_3', 'Ponnai_29_3', 'Katpadi_30_3', 'Natrampalli_30_3', 'TCS Mill_30_3', 'ACS Mill_30_3', 'VCS Mill_30_3', 'Ponnai_30_3', 'Katpadi_31_3', 'Natrampalli_31_3', 'TCS Mill_31_3', 'ACS Mill_31_3', 'VCS Mill_31_3', 'Ponnai_31_3', 'Katpadi_1_4', 'Natrampalli_1_4', 'TCS Mill_1_4', 'ACS Mill_1_4', 'VCS Mill_1_4', 'Ponnai_1_4', 'Katpadi_2_4', 'Natrampalli_2_4', 'TCS Mill_2_4', 'ACS Mill_2_4', 'VCS Mill_2_4', 'Ponnai_2_4', 'Katpadi_3_4', 'Natrampalli_3_4', 'TCS Mill_3_4', 'ACS Mill_3_4', 'VCS Mill_3_4', 'Ponnai_3_4', 'Katpadi_4_4', 'Natrampalli_4_4', 'TCS Mill_4_4', 'ACS Mill_4_4', 'VCS Mill_4_4', 'Ponnai_4_4', 'Katpadi_5_4', 'Natrampalli_5_4', 'TCS Mill_5_4', 'ACS Mill_5_4', 'VCS Mill_5_4', 'Ponnai_5_4', 'Katpadi_6_4', 'Natrampalli_6_4', 'TCS Mill_6_4', 'ACS Mill_6_4', 'VCS Mill_6_4', 'Ponnai_6_4', 'Katpadi_7_4', 'Natrampalli_7_4', 'TCS Mill_7_4', 'ACS Mill_7_4', 'VCS Mill_7_4', 'Ponnai_7_4', 'Katpadi_8_4', 'Natrampalli_8_4', 'TCS Mill_8_4', 'ACS Mill_8_4', 'VCS Mill_8_4', 'Ponnai_8_4', 'Katpadi_9_4', 'Natrampalli_9_4', 'TCS Mill_9_4', 'ACS Mill_9_4', 'VCS Mill_9_4', 'Ponnai_9_4', 'Katpadi_10_4', 'Natrampalli_10_4', 'TCS Mill_10_4', 'ACS Mill_10_4', 'VCS Mill_10_4', 'Ponnai_10_4', 'Katpadi_11_4', 'Natrampalli_11_4', 'TCS Mill_11_4', 'ACS Mill_11_4', 'VCS Mill_11_4', 'Ponnai_11_4', 'Katpadi_12_4', 'Natrampalli_12_4', 'TCS Mill_12_4', 'ACS Mill_12_4', 'VCS Mill_12_4', 'Ponnai_12_4', 'Katpadi_13_4', 'Natrampalli_13_4', 'TCS Mill_13_4', 'ACS Mill_13_4', 'VCS Mill_13_4', 'Ponnai_13_4', 'Katpadi_14_4', 'Natrampalli_14_4', 'TCS Mill_14_4', 'ACS Mill_14_4', 'VCS Mill_14_4', 'Ponnai_14_4', 'Katpadi_15_4', 'Natrampalli_15_4', 'TCS Mill_15_4', 'ACS Mill_15_4', 'VCS Mill_15_4', 'Ponnai_15_4', 'Katpadi_16_4', 'Natrampalli_16_4', 'TCS Mill_16_4', 'ACS Mill_16_4', 'VCS Mill_16_4', 'Ponnai_16_4', 'Katpadi_17_4', 'Natrampalli_17_4', 'TCS Mill_17_4', 'ACS Mill_17_4', 'VCS Mill_17_4', 'Ponnai_17_4', 'Katpadi_18_4', 'Natrampalli_18_4', 'TCS Mill_18_4', 'ACS Mill_18_4', 'VCS Mill_18_4', 'Ponnai_18_4', 'Katpadi_19_4', 'Natrampalli_19_4', 'TCS Mill_19_4', 'ACS Mill_19_4', 'VCS Mill_19_4', 'Ponnai_19_4', 'Katpadi_20_4', 'Natrampalli_20_4', 'TCS Mill_20_4', 'ACS Mill_20_4', 'VCS Mill_20_4', 'Ponnai_20_4', 'Katpadi_21_4', 'Natrampalli_21_4', 'TCS Mill_21_4', 'ACS Mill_21_4', 'VCS Mill_21_4', 'Ponnai_21_4', 'Katpadi_22_4', 'Natrampalli_22_4', 'TCS Mill_22_4', 'ACS Mill_22_4', 'VCS Mill_22_4', 'Ponnai_22_4', 'Katpadi_23_4', 'Natrampalli_23_4', 'TCS Mill_23_4', 'ACS Mill_23_4', 'VCS Mill_23_4', 'Ponnai_23_4', 'Katpadi_24_4', 'Natrampalli_24_4', 'TCS Mill_24_4', 'ACS Mill_24_4', 'VCS Mill_24_4', 'Ponnai_24_4', 'Katpadi_25_4', 'Natrampalli_25_4', 'TCS Mill_25_4', 'ACS Mill_25_4', 'VCS Mill_25_4', 'Ponnai_25_4', 'Katpadi_26_4', 'Natrampalli_26_4', 'TCS Mill_26_4', 'ACS Mill_26_4', 'VCS Mill_26_4', 'Ponnai_26_4', 'Katpadi_27_4', 'Natrampalli_27_4', 'TCS Mill_27_4', 'ACS Mill_27_4', 'VCS Mill_27_4', 'Ponnai_27_4', 'Katpadi_28_4', 'Natrampalli_28_4', 'TCS Mill_28_4', 'ACS Mill_28_4', 'VCS Mill_28_4', 'Ponnai_28_4', 'Katpadi_29_4', 'Natrampalli_29_4', 'TCS Mill_29_4', 'ACS Mill_29_4', 'VCS Mill_29_4', 'Ponnai_29_4', 'Katpadi_30_4', 'Natrampalli_30_4', 'TCS Mill_30_4', 'ACS Mill_30_4', 'VCS Mill_30_4', 'Ponnai_30_4', 'Katpadi_1_5', 'Natrampalli_1_5', 'TCS Mill_1_5', 'ACS Mill_1_5', 'VCS Mill_1_5', 'Ponnai_1_5', 'Katpadi_2_5', 'Natrampalli_2_5', 'TCS Mill_2_5', 'ACS Mill_2_5', 'VCS Mill_2_5', 'Ponnai_2_5', 'Katpadi_3_5', 'Natrampalli_3_5', 'TCS Mill_3_5', 'ACS Mill_3_5', 'VCS Mill_3_5', 'Ponnai_3_5', 'Katpadi_4_5', 'Natrampalli_4_5', 'TCS Mill_4_5', 'ACS Mill_4_5', 'VCS Mill_4_5', 'Ponnai_4_5', 'Katpadi_5_5', 'Natrampalli_5_5', 'TCS Mill_5_5', 'ACS Mill_5_5', 'VCS Mill_5_5', 'Ponnai_5_5', 'Katpadi_6_5', 'Natrampalli_6_5', 'TCS Mill_6_5', 'ACS Mill_6_5', 'VCS Mill_6_5', 'Ponnai_6_5', 'Katpadi_7_5', 'Natrampalli_7_5', 'TCS Mill_7_5', 'ACS Mill_7_5', 'VCS Mill_7_5', 'Ponnai_7_5', 'Katpadi_8_5', 'Natrampalli_8_5', 'TCS Mill_8_5', 'ACS Mill_8_5', 'VCS Mill_8_5', 'Ponnai_8_5', 'Katpadi_9_5', 'Natrampalli_9_5', 'TCS Mill_9_5', 'ACS Mill_9_5', 'VCS Mill_9_5', 'Ponnai_9_5', 'Katpadi_10_5', 'Natrampalli_10_5', 'TCS Mill_10_5', 'ACS Mill_10_5', 'VCS Mill_10_5', 'Ponnai_10_5', 'Katpadi_11_5', 'Natrampalli_11_5', 'TCS Mill_11_5', 'ACS Mill_11_5', 'VCS Mill_11_5', 'Ponnai_11_5', 'Katpadi_12_5', 'Natrampalli_12_5', 'TCS Mill_12_5', 'ACS Mill_12_5', 'VCS Mill_12_5', 'Ponnai_12_5', 'Katpadi_13_5', 'Natrampalli_13_5', 'TCS Mill_13_5', 'ACS Mill_13_5', 'VCS Mill_13_5', 'Ponnai_13_5', 'Katpadi_14_5', 'Natrampalli_14_5', 'TCS Mill_14_5', 'ACS Mill_14_5', 'VCS Mill_14_5', 'Ponnai_14_5', 'Katpadi_15_5', 'Natrampalli_15_5', 'TCS Mill_15_5', 'ACS Mill_15_5', 'VCS Mill_15_5', 'Ponnai_15_5', 'Katpadi_16_5', 'Natrampalli_16_5', 'TCS Mill_16_5', 'ACS Mill_16_5', 'VCS Mill_16_5', 'Ponnai_16_5', 'Katpadi_17_5', 'Natrampalli_17_5', 'TCS Mill_17_5', 'ACS Mill_17_5', 'VCS Mill_17_5', 'Ponnai_17_5', 'Katpadi_18_5', 'Natrampalli_18_5', 'TCS Mill_18_5', 'ACS Mill_18_5', 'VCS Mill_18_5', 'Ponnai_18_5', 'Katpadi_19_5', 'Natrampalli_19_5', 'TCS Mill_19_5', 'ACS Mill_19_5', 'VCS Mill_19_5', 'Ponnai_19_5', 'Katpadi_20_5', 'Natrampalli_20_5', 'TCS Mill_20_5', 'ACS Mill_20_5', 'VCS Mill_20_5', 'Ponnai_20_5', 'Katpadi_21_5', 'Natrampalli_21_5', 'TCS Mill_21_5', 'ACS Mill_21_5', 'VCS Mill_21_5', 'Ponnai_21_5', 'Katpadi_22_5', 'Natrampalli_22_5', 'TCS Mill_22_5', 'ACS Mill_22_5', 'VCS Mill_22_5', 'Ponnai_22_5', 'Katpadi_23_5', 'Natrampalli_23_5', 'TCS Mill_23_5', 'ACS Mill_23_5', 'VCS Mill_23_5', 'Ponnai_23_5', 'Katpadi_24_5', 'Natrampalli_24_5', 'TCS Mill_24_5', 'ACS Mill_24_5', 'VCS Mill_24_5', 'Ponnai_24_5', 'Katpadi_25_5', 'Natrampalli_25_5', 'TCS Mill_25_5', 'ACS Mill_25_5', 'VCS Mill_25_5', 'Ponnai_25_5', 'Katpadi_26_5', 'Natrampalli_26_5', 'TCS Mill_26_5', 'ACS Mill_26_5', 'VCS Mill_26_5', 'Ponnai_26_5', 'Katpadi_27_5', 'Natrampalli_27_5', 'TCS Mill_27_5', 'ACS Mill_27_5', 'VCS Mill_27_5', 'Ponnai_27_5', 'Katpadi_28_5', 'Natrampalli_28_5', 'TCS Mill_28_5', 'ACS Mill_28_5', 'VCS Mill_28_5', 'Ponnai_28_5', 'Katpadi_29_5', 'Natrampalli_29_5', 'TCS Mill_29_5', 'ACS Mill_29_5', 'VCS Mill_29_5', 'Ponnai_29_5', 'Katpadi_30_5', 'Natrampalli_30_5', 'TCS Mill_30_5', 'ACS Mill_30_5', 'VCS Mill_30_5', 'Ponnai_30_5', 'Katpadi_31_5', 'Natrampalli_31_5', 'TCS Mill_31_5', 'ACS Mill_31_5', 'VCS Mill_31_5', 'Ponnai_31_5', 'Katpadi_1_6', 'Natrampalli_1_6', 'TCS Mill_1_6', 'ACS Mill_1_6', 'VCS Mill_1_6', 'Ponnai_1_6', 'Katpadi_2_6', 'Natrampalli_2_6', 'TCS Mill_2_6', 'ACS Mill_2_6', 'VCS Mill_2_6', 'Ponnai_2_6', 'Katpadi_3_6', 'Natrampalli_3_6', 'TCS Mill_3_6', 'ACS Mill_3_6', 'VCS Mill_3_6', 'Ponnai_3_6', 'Katpadi_4_6', 'Natrampalli_4_6', 'TCS Mill_4_6', 'ACS Mill_4_6', 'VCS Mill_4_6', 'Ponnai_4_6', 'Katpadi_5_6', 'Natrampalli_5_6', 'TCS Mill_5_6', 'ACS Mill_5_6', 'VCS Mill_5_6', 'Ponnai_5_6', 'Katpadi_6_6', 'Natrampalli_6_6', 'TCS Mill_6_6', 'ACS Mill_6_6', 'VCS Mill_6_6', 'Ponnai_6_6', 'Katpadi_7_6', 'Natrampalli_7_6', 'TCS Mill_7_6', 'ACS Mill_7_6', 'VCS Mill_7_6', 'Ponnai_7_6', 'Katpadi_8_6', 'Natrampalli_8_6', 'TCS Mill_8_6', 'ACS Mill_8_6', 'VCS Mill_8_6', 'Ponnai_8_6', 'Katpadi_9_6', 'Natrampalli_9_6', 'TCS Mill_9_6', 'ACS Mill_9_6', 'VCS Mill_9_6', 'Ponnai_9_6', 'Katpadi_10_6', 'Natrampalli_10_6', 'TCS Mill_10_6', 'ACS Mill_10_6', 'VCS Mill_10_6', 'Ponnai_10_6', 'Katpadi_11_6', 'Natrampalli_11_6', 'TCS Mill_11_6', 'ACS Mill_11_6', 'VCS Mill_11_6', 'Ponnai_11_6', 'Katpadi_12_6', 'Natrampalli_12_6', 'TCS Mill_12_6', 'ACS Mill_12_6', 'VCS Mill_12_6', 'Ponnai_12_6', 'Katpadi_13_6', 'Natrampalli_13_6', 'TCS Mill_13_6', 'ACS Mill_13_6', 'VCS Mill_13_6', 'Ponnai_13_6', 'Katpadi_14_6', 'Natrampalli_14_6', 'TCS Mill_14_6', 'ACS Mill_14_6', 'VCS Mill_14_6', 'Ponnai_14_6', 'Katpadi_15_6', 'Natrampalli_15_6', 'TCS Mill_15_6', 'ACS Mill_15_6', 'VCS Mill_15_6', 'Ponnai_15_6', 'Katpadi_16_6', 'Natrampalli_16_6', 'TCS Mill_16_6', 'ACS Mill_16_6', 'VCS Mill_16_6', 'Ponnai_16_6', 'Katpadi_17_6', 'Natrampalli_17_6', 'TCS Mill_17_6', 'ACS Mill_17_6', 'VCS Mill_17_6', 'Ponnai_17_6', 'Katpadi_18_6', 'Natrampalli_18_6', 'TCS Mill_18_6', 'ACS Mill_18_6', 'VCS Mill_18_6', 'Ponnai_18_6', 'Katpadi_19_6', 'Natrampalli_19_6', 'TCS Mill_19_6', 'ACS Mill_19_6', 'VCS Mill_19_6', 'Ponnai_19_6', 'Katpadi_20_6', 'Natrampalli_20_6', 'TCS Mill_20_6', 'ACS Mill_20_6', 'VCS Mill_20_6', 'Ponnai_20_6', 'Katpadi_21_6', 'Natrampalli_21_6', 'TCS Mill_21_6', 'ACS Mill_21_6', 'VCS Mill_21_6', 'Ponnai_21_6', 'Katpadi_22_6', 'Natrampalli_22_6', 'TCS Mill_22_6', 'ACS Mill_22_6', 'VCS Mill_22_6', 'Ponnai_22_6', 'Katpadi_23_6', 'Natrampalli_23_6', 'TCS Mill_23_6', 'ACS Mill_23_6', 'VCS Mill_23_6', 'Ponnai_23_6', 'Katpadi_24_6', 'Natrampalli_24_6', 'TCS Mill_24_6', 'ACS Mill_24_6', 'VCS Mill_24_6', 'Ponnai_24_6', 'Katpadi_25_6', 'Natrampalli_25_6', 'TCS Mill_25_6', 'ACS Mill_25_6', 'VCS Mill_25_6', 'Ponnai_25_6', 'Katpadi_26_6', 'Natrampalli_26_6', 'TCS Mill_26_6', 'ACS Mill_26_6', 'VCS Mill_26_6', 'Ponnai_26_6', 'Katpadi_27_6', 'Natrampalli_27_6', 'TCS Mill_27_6', 'ACS Mill_27_6', 'VCS Mill_27_6', 'Ponnai_27_6', 'Katpadi_28_6', 'Natrampalli_28_6', 'TCS Mill_28_6', 'ACS Mill_28_6', 'VCS Mill_28_6', 'Ponnai_28_6', 'Katpadi_29_6', 'Natrampalli_29_6', 'TCS Mill_29_6', 'ACS Mill_29_6', 'VCS Mill_29_6', 'Ponnai_29_6', 'Katpadi_30_6', 'Natrampalli_30_6', 'TCS Mill_30_6', 'ACS Mill_30_6', 'VCS Mill_30_6', 'Ponnai_30_6', 'Katpadi_1_7', 'Natrampalli_1_7', 'TCS Mill_1_7', 'ACS Mill_1_7', 'VCS Mill_1_7', 'Ponnai_1_7', 'Katpadi_2_7', 'Natrampalli_2_7', 'TCS Mill_2_7', 'ACS Mill_2_7', 'VCS Mill_2_7', 'Ponnai_2_7', 'Katpadi_3_7', 'Natrampalli_3_7', 'TCS Mill_3_7', 'ACS Mill_3_7', 'VCS Mill_3_7', 'Ponnai_3_7', 'Katpadi_4_7', 'Natrampalli_4_7', 'TCS Mill_4_7', 'ACS Mill_4_7', 'VCS Mill_4_7', 'Ponnai_4_7', 'Katpadi_5_7', 'Natrampalli_5_7', 'TCS Mill_5_7', 'ACS Mill_5_7', 'VCS Mill_5_7', 'Ponnai_5_7', 'Katpadi_6_7', 'Natrampalli_6_7', 'TCS Mill_6_7', 'ACS Mill_6_7', 'VCS Mill_6_7', 'Ponnai_6_7', 'Katpadi_7_7', 'Natrampalli_7_7', 'TCS Mill_7_7', 'ACS Mill_7_7', 'VCS Mill_7_7', 'Ponnai_7_7', 'Katpadi_8_7', 'Natrampalli_8_7', 'TCS Mill_8_7', 'ACS Mill_8_7', 'VCS Mill_8_7', 'Ponnai_8_7', 'Katpadi_9_7', 'Natrampalli_9_7', 'TCS Mill_9_7', 'ACS Mill_9_7', 'VCS Mill_9_7', 'Ponnai_9_7', 'Katpadi_10_7', 'Natrampalli_10_7', 'TCS Mill_10_7', 'ACS Mill_10_7', 'VCS Mill_10_7', 'Ponnai_10_7', 'Katpadi_11_7', 'Natrampalli_11_7', 'TCS Mill_11_7', 'ACS Mill_11_7', 'VCS Mill_11_7', 'Ponnai_11_7', 'Katpadi_12_7', 'Natrampalli_12_7', 'TCS Mill_12_7', 'ACS Mill_12_7', 'VCS Mill_12_7', 'Ponnai_12_7', 'Katpadi_13_7', 'Natrampalli_13_7', 'TCS Mill_13_7', 'ACS Mill_13_7', 'VCS Mill_13_7', 'Ponnai_13_7', 'Katpadi_14_7', 'Natrampalli_14_7', 'TCS Mill_14_7', 'ACS Mill_14_7', 'VCS Mill_14_7', 'Ponnai_14_7', 'Katpadi_15_7', 'Natrampalli_15_7', 'TCS Mill_15_7', 'ACS Mill_15_7', 'VCS Mill_15_7', 'Ponnai_15_7', 'Katpadi_16_7', 'Natrampalli_16_7', 'TCS Mill_16_7', 'ACS Mill_16_7', 'VCS Mill_16_7', 'Ponnai_16_7', 'Katpadi_17_7', 'Natrampalli_17_7', 'TCS Mill_17_7', 'ACS Mill_17_7', 'VCS Mill_17_7', 'Ponnai_17_7', 'Katpadi_18_7', 'Natrampalli_18_7', 'TCS Mill_18_7', 'ACS Mill_18_7', 'VCS Mill_18_7', 'Ponnai_18_7', 'Katpadi_19_7', 'Natrampalli_19_7', 'TCS Mill_19_7', 'ACS Mill_19_7', 'VCS Mill_19_7', 'Ponnai_19_7', 'Katpadi_20_7', 'Natrampalli_20_7', 'TCS Mill_20_7', 'ACS Mill_20_7', 'VCS Mill_20_7', 'Ponnai_20_7', 'Katpadi_21_7', 'Natrampalli_21_7', 'TCS Mill_21_7', 'ACS Mill_21_7', 'VCS Mill_21_7', 'Ponnai_21_7', 'Katpadi_22_7', 'Natrampalli_22_7', 'TCS Mill_22_7', 'ACS Mill_22_7', 'VCS Mill_22_7', 'Ponnai_22_7', 'Katpadi_23_7', 'Natrampalli_23_7', 'TCS Mill_23_7', 'ACS Mill_23_7', 'VCS Mill_23_7', 'Ponnai_23_7', 'Katpadi_24_7', 'Natrampalli_24_7', 'TCS Mill_24_7', 'ACS Mill_24_7', 'VCS Mill_24_7', 'Ponnai_24_7', 'Katpadi_25_7', 'Natrampalli_25_7', 'TCS Mill_25_7', 'ACS Mill_25_7', 'VCS Mill_25_7', 'Ponnai_25_7', 'Katpadi_26_7', 'Natrampalli_26_7', 'TCS Mill_26_7', 'ACS Mill_26_7', 'VCS Mill_26_7', 'Ponnai_26_7', 'Katpadi_27_7', 'Natrampalli_27_7', 'TCS Mill_27_7', 'ACS Mill_27_7', 'VCS Mill_27_7', 'Ponnai_27_7', 'Katpadi_28_7', 'Natrampalli_28_7', 'TCS Mill_28_7', 'ACS Mill_28_7', 'VCS Mill_28_7', 'Ponnai_28_7', 'Katpadi_29_7', 'Natrampalli_29_7', 'TCS Mill_29_7', 'ACS Mill_29_7', 'VCS Mill_29_7', 'Ponnai_29_7', 'Katpadi_30_7', 'Natrampalli_30_7', 'TCS Mill_30_7', 'ACS Mill_30_7', 'VCS Mill_30_7', 'Ponnai_30_7', 'Katpadi_31_7', 'Natrampalli_31_7', 'TCS Mill_31_7', 'ACS Mill_31_7', 'VCS Mill_31_7', 'Ponnai_31_7', 'Katpadi_1_8', 'Natrampalli_1_8', 'TCS Mill_1_8', 'ACS Mill_1_8', 'VCS Mill_1_8', 'Ponnai_1_8', 'Katpadi_2_8', 'Natrampalli_2_8', 'TCS Mill_2_8', 'ACS Mill_2_8', 'VCS Mill_2_8', 'Ponnai_2_8', 'Katpadi_3_8', 'Natrampalli_3_8', 'TCS Mill_3_8', 'ACS Mill_3_8', 'VCS Mill_3_8', 'Ponnai_3_8', 'Katpadi_4_8', 'Natrampalli_4_8', 'TCS Mill_4_8', 'ACS Mill_4_8', 'VCS Mill_4_8', 'Ponnai_4_8', 'Katpadi_5_8', 'Natrampalli_5_8', 'TCS Mill_5_8', 'ACS Mill_5_8', 'VCS Mill_5_8', 'Ponnai_5_8', 'Katpadi_6_8', 'Natrampalli_6_8', 'TCS Mill_6_8', 'ACS Mill_6_8', 'VCS Mill_6_8', 'Ponnai_6_8', 'Katpadi_7_8', 'Natrampalli_7_8', 'TCS Mill_7_8', 'ACS Mill_7_8', 'VCS Mill_7_8', 'Ponnai_7_8', 'Katpadi_8_8', 'Natrampalli_8_8', 'TCS Mill_8_8', 'ACS Mill_8_8', 'VCS Mill_8_8', 'Ponnai_8_8', 'Katpadi_9_8', 'Natrampalli_9_8', 'TCS Mill_9_8', 'ACS Mill_9_8', 'VCS Mill_9_8', 'Ponnai_9_8', 'Katpadi_10_8', 'Natrampalli_10_8', 'TCS Mill_10_8', 'ACS Mill_10_8', 'VCS Mill_10_8', 'Ponnai_10_8', 'Katpadi_11_8', 'Natrampalli_11_8', 'TCS Mill_11_8', 'ACS Mill_11_8', 'VCS Mill_11_8', 'Ponnai_11_8', 'Katpadi_12_8', 'Natrampalli_12_8', 'TCS Mill_12_8', 'ACS Mill_12_8', 'VCS Mill_12_8', 'Ponnai_12_8', 'Katpadi_13_8', 'Natrampalli_13_8', 'TCS Mill_13_8', 'ACS Mill_13_8', 'VCS Mill_13_8', 'Ponnai_13_8', 'Katpadi_14_8', 'Natrampalli_14_8', 'TCS Mill_14_8', 'ACS Mill_14_8', 'VCS Mill_14_8', 'Ponnai_14_8', 'Katpadi_15_8', 'Natrampalli_15_8', 'TCS Mill_15_8', 'ACS Mill_15_8', 'VCS Mill_15_8', 'Ponnai_15_8', 'Katpadi_16_8', 'Natrampalli_16_8', 'TCS Mill_16_8', 'ACS Mill_16_8', 'VCS Mill_16_8', 'Ponnai_16_8', 'Katpadi_17_8', 'Natrampalli_17_8', 'TCS Mill_17_8', 'ACS Mill_17_8', 'VCS Mill_17_8', 'Ponnai_17_8', 'Katpadi_18_8', 'Natrampalli_18_8', 'TCS Mill_18_8', 'ACS Mill_18_8', 'VCS Mill_18_8', 'Ponnai_18_8', 'Katpadi_19_8', 'Natrampalli_19_8', 'TCS Mill_19_8', 'ACS Mill_19_8', 'VCS Mill_19_8', 'Ponnai_19_8', 'Katpadi_20_8', 'Natrampalli_20_8', 'TCS Mill_20_8', 'ACS Mill_20_8', 'VCS Mill_20_8', 'Ponnai_20_8', 'Katpadi_21_8', 'Natrampalli_21_8', 'TCS Mill_21_8', 'ACS Mill_21_8', 'VCS Mill_21_8', 'Ponnai_21_8', 'Katpadi_22_8', 'Natrampalli_22_8', 'TCS Mill_22_8', 'ACS Mill_22_8', 'VCS Mill_22_8', 'Ponnai_22_8', 'Katpadi_23_8', 'Natrampalli_23_8', 'TCS Mill_23_8', 'ACS Mill_23_8', 'VCS Mill_23_8', 'Ponnai_23_8', 'Katpadi_24_8', 'Natrampalli_24_8', 'TCS Mill_24_8', 'ACS Mill_24_8', 'VCS Mill_24_8', 'Ponnai_24_8', 'Katpadi_25_8', 'Natrampalli_25_8', 'TCS Mill_25_8', 'ACS Mill_25_8', 'VCS Mill_25_8', 'Ponnai_25_8', 'Katpadi_26_8', 'Natrampalli_26_8', 'TCS Mill_26_8', 'ACS Mill_26_8', 'VCS Mill_26_8', 'Ponnai_26_8', 'Katpadi_27_8', 'Natrampalli_27_8', 'TCS Mill_27_8', 'ACS Mill_27_8', 'VCS Mill_27_8', 'Ponnai_27_8', 'Katpadi_28_8', 'Natrampalli_28_8', 'TCS Mill_28_8', 'ACS Mill_28_8', 'VCS Mill_28_8', 'Ponnai_28_8', 'Katpadi_29_8', 'Natrampalli_29_8', 'TCS Mill_29_8', 'ACS Mill_29_8', 'VCS Mill_29_8', 'Ponnai_29_8', 'Katpadi_30_8', 'Natrampalli_30_8', 'TCS Mill_30_8', 'ACS Mill_30_8', 'VCS Mill_30_8', 'Ponnai_30_8', 'Katpadi_31_8', 'Natrampalli_31_8', 'TCS Mill_31_8', 'ACS Mill_31_8', 'VCS Mill_31_8', 'Ponnai_31_8', 'Katpadi_1_9', 'Natrampalli_1_9', 'TCS Mill_1_9', 'ACS Mill_1_9', 'VCS Mill_1_9', 'Ponnai_1_9', 'Katpadi_2_9', 'Natrampalli_2_9', 'TCS Mill_2_9', 'ACS Mill_2_9', 'VCS Mill_2_9', 'Ponnai_2_9', 'Katpadi_3_9', 'Natrampalli_3_9', 'TCS Mill_3_9', 'ACS Mill_3_9', 'VCS Mill_3_9', 'Ponnai_3_9', 'Katpadi_4_9', 'Natrampalli_4_9', 'TCS Mill_4_9', 'ACS Mill_4_9', 'VCS Mill_4_9', 'Ponnai_4_9', 'Katpadi_5_9', 'Natrampalli_5_9', 'TCS Mill_5_9', 'ACS Mill_5_9', 'VCS Mill_5_9', 'Ponnai_5_9', 'Katpadi_6_9', 'Natrampalli_6_9', 'TCS Mill_6_9', 'ACS Mill_6_9', 'VCS Mill_6_9', 'Ponnai_6_9', 'Katpadi_7_9', 'Natrampalli_7_9', 'TCS Mill_7_9', 'ACS Mill_7_9', 'VCS Mill_7_9', 'Ponnai_7_9', 'Katpadi_8_9', 'Natrampalli_8_9', 'TCS Mill_8_9', 'ACS Mill_8_9', 'VCS Mill_8_9', 'Ponnai_8_9', 'Katpadi_9_9', 'Natrampalli_9_9', 'TCS Mill_9_9', 'ACS Mill_9_9', 'VCS Mill_9_9', 'Ponnai_9_9', 'Katpadi_10_9', 'Natrampalli_10_9', 'TCS Mill_10_9', 'ACS Mill_10_9', 'VCS Mill_10_9', 'Ponnai_10_9', 'Katpadi_11_9', 'Natrampalli_11_9', 'TCS Mill_11_9', 'ACS Mill_11_9', 'VCS Mill_11_9', 'Ponnai_11_9', 'Katpadi_12_9', 'Natrampalli_12_9', 'TCS Mill_12_9', 'ACS Mill_12_9', 'VCS Mill_12_9', 'Ponnai_12_9', 'Katpadi_13_9', 'Natrampalli_13_9', 'TCS Mill_13_9', 'ACS Mill_13_9', 'VCS Mill_13_9', 'Ponnai_13_9', 'Katpadi_14_9', 'Natrampalli_14_9', 'TCS Mill_14_9', 'ACS Mill_14_9', 'VCS Mill_14_9', 'Ponnai_14_9', 'Katpadi_15_9', 'Natrampalli_15_9', 'TCS Mill_15_9', 'ACS Mill_15_9', 'VCS Mill_15_9', 'Ponnai_15_9', 'Katpadi_16_9', 'Natrampalli_16_9', 'TCS Mill_16_9', 'ACS Mill_16_9', 'VCS Mill_16_9', 'Ponnai_16_9', 'Katpadi_17_9', 'Natrampalli_17_9', 'TCS Mill_17_9', 'ACS Mill_17_9', 'VCS Mill_17_9', 'Ponnai_17_9', 'Katpadi_18_9', 'Natrampalli_18_9', 'TCS Mill_18_9', 'ACS Mill_18_9', 'VCS Mill_18_9', 'Ponnai_18_9', 'Katpadi_19_9', 'Natrampalli_19_9', 'TCS Mill_19_9', 'ACS Mill_19_9', 'VCS Mill_19_9', 'Ponnai_19_9', 'Katpadi_20_9', 'Natrampalli_20_9', 'TCS Mill_20_9', 'ACS Mill_20_9', 'VCS Mill_20_9', 'Ponnai_20_9', 'Katpadi_21_9', 'Natrampalli_21_9', 'TCS Mill_21_9', 'ACS Mill_21_9', 'VCS Mill_21_9', 'Ponnai_21_9', 'Katpadi_22_9', 'Natrampalli_22_9', 'TCS Mill_22_9', 'ACS Mill_22_9', 'VCS Mill_22_9', 'Ponnai_22_9', 'Katpadi_23_9', 'Natrampalli_23_9', 'TCS Mill_23_9', 'ACS Mill_23_9', 'VCS Mill_23_9', 'Ponnai_23_9', 'Katpadi_24_9', 'Natrampalli_24_9', 'TCS Mill_24_9', 'ACS Mill_24_9', 'VCS Mill_24_9', 'Ponnai_24_9', 'Katpadi_25_9', 'Natrampalli_25_9', 'TCS Mill_25_9', 'ACS Mill_25_9', 'VCS Mill_25_9', 'Ponnai_25_9', 'Katpadi_26_9', 'Natrampalli_26_9', 'TCS Mill_26_9', 'ACS Mill_26_9', 'VCS Mill_26_9', 'Ponnai_26_9', 'Katpadi_27_9', 'Natrampalli_27_9', 'TCS Mill_27_9', 'ACS Mill_27_9', 'VCS Mill_27_9', 'Ponnai_27_9', 'Katpadi_28_9', 'Natrampalli_28_9', 'TCS Mill_28_9', 'ACS Mill_28_9', 'VCS Mill_28_9', 'Ponnai_28_9', 'Katpadi_29_9', 'Natrampalli_29_9', 'TCS Mill_29_9', 'ACS Mill_29_9', 'VCS Mill_29_9', 'Ponnai_29_9', 'Katpadi_30_9', 'Natrampalli_30_9', 'TCS Mill_30_9', 'ACS Mill_30_9', 'VCS Mill_30_9', 'Ponnai_30_9'])"
      ]
     },
     "metadata": {},
     "execution_count": 3
    }
   ],
   "source": [
    "toprint.keys()"
   ]
  },
  {
   "cell_type": "code",
   "execution_count": 47,
   "metadata": {},
   "outputs": [
    {
     "output_type": "execute_result",
     "data": {
      "text/plain": [
       "array([0., 0., 0., 0., 0., 0., 0., 0., 0., 0.])"
      ]
     },
     "metadata": {},
     "execution_count": 47
    }
   ],
   "source": [
    "np.zeros(10)"
   ]
  },
  {
   "cell_type": "code",
   "execution_count": 45,
   "metadata": {},
   "outputs": [
    {
     "output_type": "execute_result",
     "data": {
      "text/plain": [
       "Index(['month', 'day', 'year', 'sparse1', 'sparse2', 'sparse3', 'sparse4',\n",
       "       'sparse5', 'sparse6', 'sparse7', 'sparse8', 'District_ACS Mill',\n",
       "       'District_Alangayam', 'District_Ambur', 'District_Arakkonam',\n",
       "       'District_Arcot', 'District_Gudiyatham', 'District_Katpadi',\n",
       "       'District_Kaveripakkam', 'District_Melalathur', 'District_Natrampalli',\n",
       "       'District_Ponnai', 'District_Sholingur', 'District_TCS Mill',\n",
       "       'District_Tirupattur', 'District_VCS Mill', 'District_Vaniyambadi',\n",
       "       'District_Vellore', 'District_Wallajah'],\n",
       "      dtype='object')"
      ]
     },
     "metadata": {},
     "execution_count": 45
    }
   ],
   "source": [
    "X_test.columns"
   ]
  },
  {
   "cell_type": "code",
   "execution_count": 1,
   "metadata": {},
   "outputs": [],
   "source": [
    "import pandas as pd"
   ]
  },
  {
   "cell_type": "code",
   "execution_count": 2,
   "metadata": {},
   "outputs": [],
   "source": [
    "df=pd.read_csv(\"converted.csv\")"
   ]
  },
  {
   "cell_type": "code",
   "execution_count": 3,
   "metadata": {},
   "outputs": [
    {
     "output_type": "execute_result",
     "data": {
      "text/plain": [
       "      District  year      rain      month        day\n",
       "0     ACS Mill  2018  1.632609  11.000000  15.836957\n",
       "1     ACS Mill  2019  2.486575   6.526027  15.720548\n",
       "2    Alangayam  2010  2.781644   6.526027  15.720548\n",
       "3    Alangayam  2011  2.627123   6.526027  15.720548\n",
       "4    Alangayam  2012  2.923361   6.513661  15.756831\n",
       "..         ...   ...       ...        ...        ...\n",
       "127   Wallajah  2015  2.616986   6.526027  15.720548\n",
       "128   Wallajah  2016  1.008743   6.513661  15.756831\n",
       "129   Wallajah  2017  2.004384   6.526027  15.720548\n",
       "130   Wallajah  2018  1.155890   6.526027  15.720548\n",
       "131   Wallajah  2019  1.855342   6.526027  15.720548\n",
       "\n",
       "[132 rows x 5 columns]"
      ],
      "text/html": "<div>\n<style scoped>\n    .dataframe tbody tr th:only-of-type {\n        vertical-align: middle;\n    }\n\n    .dataframe tbody tr th {\n        vertical-align: top;\n    }\n\n    .dataframe thead th {\n        text-align: right;\n    }\n</style>\n<table border=\"1\" class=\"dataframe\">\n  <thead>\n    <tr style=\"text-align: right;\">\n      <th></th>\n      <th>District</th>\n      <th>year</th>\n      <th>rain</th>\n      <th>month</th>\n      <th>day</th>\n    </tr>\n  </thead>\n  <tbody>\n    <tr>\n      <th>0</th>\n      <td>ACS Mill</td>\n      <td>2018</td>\n      <td>1.632609</td>\n      <td>11.000000</td>\n      <td>15.836957</td>\n    </tr>\n    <tr>\n      <th>1</th>\n      <td>ACS Mill</td>\n      <td>2019</td>\n      <td>2.486575</td>\n      <td>6.526027</td>\n      <td>15.720548</td>\n    </tr>\n    <tr>\n      <th>2</th>\n      <td>Alangayam</td>\n      <td>2010</td>\n      <td>2.781644</td>\n      <td>6.526027</td>\n      <td>15.720548</td>\n    </tr>\n    <tr>\n      <th>3</th>\n      <td>Alangayam</td>\n      <td>2011</td>\n      <td>2.627123</td>\n      <td>6.526027</td>\n      <td>15.720548</td>\n    </tr>\n    <tr>\n      <th>4</th>\n      <td>Alangayam</td>\n      <td>2012</td>\n      <td>2.923361</td>\n      <td>6.513661</td>\n      <td>15.756831</td>\n    </tr>\n    <tr>\n      <th>...</th>\n      <td>...</td>\n      <td>...</td>\n      <td>...</td>\n      <td>...</td>\n      <td>...</td>\n    </tr>\n    <tr>\n      <th>127</th>\n      <td>Wallajah</td>\n      <td>2015</td>\n      <td>2.616986</td>\n      <td>6.526027</td>\n      <td>15.720548</td>\n    </tr>\n    <tr>\n      <th>128</th>\n      <td>Wallajah</td>\n      <td>2016</td>\n      <td>1.008743</td>\n      <td>6.513661</td>\n      <td>15.756831</td>\n    </tr>\n    <tr>\n      <th>129</th>\n      <td>Wallajah</td>\n      <td>2017</td>\n      <td>2.004384</td>\n      <td>6.526027</td>\n      <td>15.720548</td>\n    </tr>\n    <tr>\n      <th>130</th>\n      <td>Wallajah</td>\n      <td>2018</td>\n      <td>1.155890</td>\n      <td>6.526027</td>\n      <td>15.720548</td>\n    </tr>\n    <tr>\n      <th>131</th>\n      <td>Wallajah</td>\n      <td>2019</td>\n      <td>1.855342</td>\n      <td>6.526027</td>\n      <td>15.720548</td>\n    </tr>\n  </tbody>\n</table>\n<p>132 rows × 5 columns</p>\n</div>"
     },
     "metadata": {},
     "execution_count": 3
    }
   ],
   "source": [
    "dfg=df.groupby([\"District\",\"year\"]).mean().reset_index()\n",
    "dfg"
   ]
  },
  {
   "cell_type": "code",
   "execution_count": 38,
   "metadata": {},
   "outputs": [],
   "source": [
    "df=df[(df[\"year\"]==2014)&(df[\"District\"]=='Arcot')]"
   ]
  },
  {
   "cell_type": "code",
   "execution_count": 40,
   "metadata": {},
   "outputs": [
    {
     "output_type": "execute_result",
     "data": {
      "text/plain": [
       "   District  year  month      rain   day\n",
       "0     Arcot  2014      1  0.000000  16.0\n",
       "1     Arcot  2014      2  0.000000  14.5\n",
       "2     Arcot  2014      3  0.000000  16.0\n",
       "3     Arcot  2014      4  0.000000  15.5\n",
       "4     Arcot  2014      5  2.358065  16.0\n",
       "5     Arcot  2014      6  0.000000  15.5\n",
       "6     Arcot  2014      7  2.048387  16.0\n",
       "7     Arcot  2014      8  3.774194  16.0\n",
       "8     Arcot  2014      9  4.960000  15.5\n",
       "9     Arcot  2014     10  4.119355  16.0\n",
       "10    Arcot  2014     11  2.573333  15.5\n",
       "11    Arcot  2014     12  0.922581  16.0"
      ],
      "text/html": "<div>\n<style scoped>\n    .dataframe tbody tr th:only-of-type {\n        vertical-align: middle;\n    }\n\n    .dataframe tbody tr th {\n        vertical-align: top;\n    }\n\n    .dataframe thead th {\n        text-align: right;\n    }\n</style>\n<table border=\"1\" class=\"dataframe\">\n  <thead>\n    <tr style=\"text-align: right;\">\n      <th></th>\n      <th>District</th>\n      <th>year</th>\n      <th>month</th>\n      <th>rain</th>\n      <th>day</th>\n    </tr>\n  </thead>\n  <tbody>\n    <tr>\n      <th>0</th>\n      <td>Arcot</td>\n      <td>2014</td>\n      <td>1</td>\n      <td>0.000000</td>\n      <td>16.0</td>\n    </tr>\n    <tr>\n      <th>1</th>\n      <td>Arcot</td>\n      <td>2014</td>\n      <td>2</td>\n      <td>0.000000</td>\n      <td>14.5</td>\n    </tr>\n    <tr>\n      <th>2</th>\n      <td>Arcot</td>\n      <td>2014</td>\n      <td>3</td>\n      <td>0.000000</td>\n      <td>16.0</td>\n    </tr>\n    <tr>\n      <th>3</th>\n      <td>Arcot</td>\n      <td>2014</td>\n      <td>4</td>\n      <td>0.000000</td>\n      <td>15.5</td>\n    </tr>\n    <tr>\n      <th>4</th>\n      <td>Arcot</td>\n      <td>2014</td>\n      <td>5</td>\n      <td>2.358065</td>\n      <td>16.0</td>\n    </tr>\n    <tr>\n      <th>5</th>\n      <td>Arcot</td>\n      <td>2014</td>\n      <td>6</td>\n      <td>0.000000</td>\n      <td>15.5</td>\n    </tr>\n    <tr>\n      <th>6</th>\n      <td>Arcot</td>\n      <td>2014</td>\n      <td>7</td>\n      <td>2.048387</td>\n      <td>16.0</td>\n    </tr>\n    <tr>\n      <th>7</th>\n      <td>Arcot</td>\n      <td>2014</td>\n      <td>8</td>\n      <td>3.774194</td>\n      <td>16.0</td>\n    </tr>\n    <tr>\n      <th>8</th>\n      <td>Arcot</td>\n      <td>2014</td>\n      <td>9</td>\n      <td>4.960000</td>\n      <td>15.5</td>\n    </tr>\n    <tr>\n      <th>9</th>\n      <td>Arcot</td>\n      <td>2014</td>\n      <td>10</td>\n      <td>4.119355</td>\n      <td>16.0</td>\n    </tr>\n    <tr>\n      <th>10</th>\n      <td>Arcot</td>\n      <td>2014</td>\n      <td>11</td>\n      <td>2.573333</td>\n      <td>15.5</td>\n    </tr>\n    <tr>\n      <th>11</th>\n      <td>Arcot</td>\n      <td>2014</td>\n      <td>12</td>\n      <td>0.922581</td>\n      <td>16.0</td>\n    </tr>\n  </tbody>\n</table>\n</div>"
     },
     "metadata": {},
     "execution_count": 40
    }
   ],
   "source": [
    "df.groupby([\"District\",\"year\",\"month\"]).mean().reset_index()"
   ]
  },
  {
   "cell_type": "code",
   "execution_count": null,
   "metadata": {},
   "outputs": [],
   "source": []
  }
 ]
}