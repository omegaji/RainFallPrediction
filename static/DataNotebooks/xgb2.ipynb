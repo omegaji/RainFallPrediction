{
 "metadata": {
  "language_info": {
   "codemirror_mode": {
    "name": "ipython",
    "version": 3
   },
   "file_extension": ".py",
   "mimetype": "text/x-python",
   "name": "python",
   "nbconvert_exporter": "python",
   "pygments_lexer": "ipython3",
   "version": "3.8.3"
  },
  "orig_nbformat": 2,
  "kernelspec": {
   "name": "python383jvsc74a57bd04679094c71e58fd5daa32654c6d4dcc218cb243910207196539a7dfc04a8a332",
   "display_name": "Python 3.8.3 64-bit (conda)"
  }
 },
 "nbformat": 4,
 "nbformat_minor": 2,
 "cells": [
  {
   "cell_type": "code",
   "execution_count": 193,
   "metadata": {},
   "outputs": [],
   "source": [
    "import pandas as pd\n",
    "import numpy as np\n",
    "df=pd.read_csv(\"combined.csv\")\n",
    "\n",
    "def convertToFloat(x):\n",
    "    x=x.strip()\n",
    "    if x==\"-\" or x==\"NR\" or x=='' or x==\".\" or x==\"\" or x==' ':\n",
    "        return 0.01\n",
    "    else:\n",
    "        \n",
    "        return float(x)\n",
    "\n",
    "def convertToFloat2(x):\n",
    "    x=x.strip()\n",
    "    if x==\"-\" or x==\"NR\" or x=='' or x==\".\" or x==\"\" or x==' ':\n",
    "        return 0\n",
    "    else:\n",
    "        \n",
    "        return float(x)\n",
    "\n",
    "\n",
    "df[\"rain\"]=df[\"Rain\"].apply(convertToFloat2)\n",
    "import datetime\n",
    "df[\"month\"]=df[\"Date\"].apply(lambda x:datetime.datetime.strptime(x,\"%Y-%m-%d\").month)\n",
    "df[\"year\"]=df[\"Date\"].apply(lambda x: datetime.datetime.strptime(x,\"%Y-%m-%d\").year)\n",
    "df[\"day\"]=df[\"Date\"].apply(lambda x: datetime.datetime.strptime(x,\"%Y-%m-%d\").day)\n",
    "\n",
    "\n",
    "\n",
    "\n",
    "def SparseMeasure(x):\n",
    "    if x ==1 or x==3:\n",
    "        return 0\n",
    "    elif x==2 or x==4 or x==12:\n",
    "        return 1\n",
    "    elif x==5 or x==6:\n",
    "        return 2\n",
    "    elif x==7 or x==10:\n",
    "        return 3\n",
    "    else: \n",
    "        return 4\n",
    "\n",
    "def meandictfunc(row):\n",
    "    daymonth=str(row[\"day\"])+\"_\"+str(row[\"month\"])\n",
    "    meanval=meandict[daymonth]\n",
    "    return meanval\n",
    "\n",
    "def isRain2(x):\n",
    "    if x>100:\n",
    "        return 5\n",
    "    if x>50:\n",
    "        return 4\n",
    "    if x>25:\n",
    "        return 3\n",
    "    if x>2:\n",
    "        return 2\n",
    "    elif x!=0:\n",
    "        return 1\n",
    " \n",
    "    else:\n",
    "        return 0\n",
    "def get_season(x):\n",
    "    if x>=1 or x<=4:\n",
    "        return 0\n",
    "    elif x>=5 or x<=9:\n",
    "        return 2\n",
    "    elif x>9 or x<12:\n",
    "        return 1\n",
    "    else:\n",
    "        return 0\n",
    "def isSparse(row):\n",
    "    daymonth=str(row[\"day\"])+\"_\"+str(row[\"month\"])\n",
    "    val=meandict[daymonth]\n",
    "    if val<1:\n",
    "        return 0\n",
    "    elif val>=1 or val<2.5:\n",
    "        return 4\n",
    "    elif val>=2.5 or val<4:\n",
    "        return 8\n",
    "    else:\n",
    "        return 12\n",
    "\n",
    "def lastseventh(row):\n",
    "    daymonth=str(row[\"day\"])+\"_\"+str(row[\"month\"])\n",
    "    val=MonDay[daymonth][-7]\n",
    "    if val==0:\n",
    "        return 0\n",
    "    else:\n",
    "        return np.log(val)\n",
    "    return val\n",
    "def lastsixth(row):\n",
    "    daymonth=str(row[\"day\"])+\"_\"+str(row[\"month\"])\n",
    "    val=MonDay[daymonth][-6]\n",
    "    if val==0:\n",
    "        return 0\n",
    "    else:\n",
    "        return np.log(val)\n",
    "    return val\n",
    "    \n",
    "def lastfifth(row):\n",
    "    daymonth=str(row[\"day\"])+\"_\"+str(row[\"month\"])\n",
    "    val=MonDay[daymonth][-5]\n",
    "    if val==0:\n",
    "        return 0\n",
    "    else:\n",
    "        return np.log(val)\n",
    "    return val\n",
    "\n",
    " \n",
    "def lastfourth(row):\n",
    "    daymonth=str(row[\"day\"])+\"_\"+str(row[\"month\"])\n",
    "    val=MonDay[daymonth][-4]\n",
    "    if val==0:\n",
    "        return 0\n",
    "    else:\n",
    "        return np.log(val)\n",
    "    return val\n",
    "\n",
    "def lastthrid(row):\n",
    "    daymonth=str(row[\"day\"])+\"_\"+str(row[\"month\"])\n",
    "    val=MonDay[daymonth][-3]\n",
    "    if val==0:\n",
    "        return 0\n",
    "    else:\n",
    "        return np.log(val)\n",
    "    return val\n",
    "\n",
    "def lastsecond(row):\n",
    "    daymonth=str(row[\"day\"])+\"_\"+str(row[\"month\"])\n",
    "    val=MonDay[daymonth][-2]\n",
    "    if val==0:\n",
    "        return 0\n",
    "    else:\n",
    "        return np.log(val)\n",
    "    return val\n",
    "\n",
    "def lastfirst(row):\n",
    "    daymonth=str(row[\"day\"])+\"_\"+str(row[\"month\"])\n",
    "    val=MonDay[daymonth][-1]\n",
    "    if val==0:\n",
    "        return 0\n",
    "    else:\n",
    "        return np.log(val)\n",
    "    return val\n",
    "def last(row,k):\n",
    "    daymonth=str(row[\"day\"])+\"_\"+str(row[\"month\"])\n",
    "    val=MonDay[daymonth][-k]\n",
    "    final=isRain2(val)\n",
    "    return final\n",
    "    if val==0:\n",
    "        return 0\n",
    "  \n",
    "    return val\n"
   ]
  },
  {
   "cell_type": "code",
   "execution_count": 194,
   "metadata": {},
   "outputs": [],
   "source": [
    "df[\"is_rain\"]=df[\"month\"].apply(get_season)\n",
    "# df[\"sparse1\"]=df.apply(lastfirst,axis=1)\n",
    "# df[\"sparse2\"]=df.apply(lastsecond,axis=1)\n",
    "# df[\"sparse3\"]=df.apply(lastthrid,axis=1)\n",
    "# df[\"sparse4\"]=df.apply(lastfourth,axis=1)\n",
    "# df[\"sparse5\"]=df.apply(lastfifth,axis=1)\n",
    "# df[\"sparse6\"]=df.apply(lastsixth,axis=1)\n",
    "# df[\"sparse7\"]=df.apply(lastseventh,axis=1)\n",
    "for i in range(1,9):\n",
    "    sparse=\"sparse\"+str(i)\n",
    "    df[sparse]=df.apply(last,k=i,axis=1)\n",
    "# df[\"sparse\"]=df.apply(isSparse,axis=1)"
   ]
  },
  {
   "cell_type": "code",
   "execution_count": 186,
   "metadata": {},
   "outputs": [
    {
     "output_type": "execute_result",
     "data": {
      "text/plain": [
       "0"
      ]
     },
     "metadata": {},
     "execution_count": 186
    }
   ],
   "source": [
    "min(df[\"sparse8\"])"
   ]
  },
  {
   "cell_type": "code",
   "execution_count": 140,
   "metadata": {},
   "outputs": [],
   "source": [
    "df[\"new2\"]=df.apply(meandictfunc,axis=1)\n",
    "# df[\"rain\"]=df[\"rain\"].apply(lambda x: np.log(x))\n",
    "# df[\"year\"]=df[\"year\"].apply(lambda x: np.log(x))\n",
    "# df[\"new2\"].apply(lambda x: np.log(x))\n",
    "# df[\"new\"]=df[\"month\"].apply(SparseMeasure)\n"
   ]
  },
  {
   "cell_type": "code",
   "execution_count": 195,
   "metadata": {},
   "outputs": [],
   "source": [
    "dummydf=pd.get_dummies(df[[\"District\",\"rain\",\"month\",\"day\",\"year\",\"sparse1\",\"sparse2\",\"sparse3\",\"sparse4\",\"sparse5\",\"sparse6\",\"sparse7\",\"sparse8\"]])\n",
    "# dummydf=pd.get_dummies(df[[\"District\",\"rain\",\"month\",\"day\",\"year\"]])\n"
   ]
  },
  {
   "cell_type": "code",
   "execution_count": 196,
   "metadata": {},
   "outputs": [],
   "source": [
    "y=dummydf.pop(\"rain\")\n",
    "x=dummydf\n",
    "\n",
    "from sklearn.model_selection import train_test_split\n",
    "from sklearn.preprocessing import MinMaxScaler\n",
    "X_train, X_test, y_train, y_test = train_test_split(x , y, test_size=0.33, random_state=42)"
   ]
  },
  {
   "cell_type": "code",
   "execution_count": 217,
   "metadata": {
    "tags": []
   },
   "outputs": [
    {
     "output_type": "execute_result",
     "data": {
      "text/plain": [
       "XGBRegressor(base_score=0.5, booster='gbtree', colsample_bylevel=1,\n",
       "             colsample_bynode=1, colsample_bytree=1, eta=0.3, gamma=0,\n",
       "             gpu_id=-1, importance_type='gain', interaction_constraints='',\n",
       "             learning_rate=0.300000012, max_delta_step=0, max_depth=20,\n",
       "             min_child_weight=1, missing=nan, monotone_constraints='()',\n",
       "             n_estimators=5, n_jobs=12, num_parallel_tree=1, random_state=123,\n",
       "             reg_alpha=0, reg_lambda=1, scale_pos_weight=1, seed=123,\n",
       "             subsample=1, tree_method='exact', validate_parameters=1,\n",
       "             verbosity=None)"
      ]
     },
     "metadata": {},
     "execution_count": 217
    }
   ],
   "source": [
    "import xgboost as xg\n",
    "xgb_r = xg.XGBRegressor(objective ='reg:squarederror',    \n",
    "                  n_estimators =5, seed = 123,max_depth=20,eta=0.3)\n",
    "   \n",
    "# Fitting the model\n",
    "xgb_r.fit(X_train, y_train)"
   ]
  },
  {
   "cell_type": "code",
   "execution_count": 221,
   "metadata": {},
   "outputs": [
    {
     "output_type": "stream",
     "name": "stderr",
     "text": [
      "C:\\Users\\om purohit\\anaconda3\\lib\\site-packages\\xgboost\\data.py:112: UserWarning: Use subset (sliced data) of np.ndarray is not recommended because it will generate extra copies and increase memory consumption\n  warnings.warn(\n"
     ]
    },
    {
     "output_type": "execute_result",
     "data": {
      "text/plain": [
       "2.338045029785337"
      ]
     },
     "metadata": {},
     "execution_count": 221
    }
   ],
   "source": [
    "from sklearn.metrics import mean_absolute_error\n",
    "pred=xgb_r.predict(X_test)\n",
    "predtrain=xgb_r.predict(X_train)\n",
    "for i in range(len(pred)):\n",
    "    if pred[i]<=1:\n",
    "        pred[i]=0\n",
    "for i in range(len(predtrain)):\n",
    "    if predtrain[i]<=1:\n",
    "        predtrain[i]=0\n",
    "from sklearn.metrics import mean_squared_error\n",
    "mean_squared_error(y_train,predtrain)\n",
    "mean_squared_error(y_test,pred) \n",
    " mean_absolute_error(y_test,pred)\n"
   ]
  },
  {
   "cell_type": "code",
   "execution_count": 174,
   "metadata": {},
   "outputs": [
    {
     "output_type": "execute_result",
     "data": {
      "text/plain": [
       "       orig  pred_test\n",
       "35844   0.0   0.000000\n",
       "18346   0.0   0.000000\n",
       "8140   56.0   1.694509\n",
       "43290   0.0   0.000000\n",
       "40376   0.0   0.000000\n",
       "...     ...        ...\n",
       "1274    0.0   0.000000\n",
       "13166   0.0   0.000000\n",
       "45618   0.0   0.000000\n",
       "44814   0.0   0.000000\n",
       "12538   7.0  16.208780\n",
       "\n",
       "[15277 rows x 2 columns]"
      ],
      "text/html": "<div>\n<style scoped>\n    .dataframe tbody tr th:only-of-type {\n        vertical-align: middle;\n    }\n\n    .dataframe tbody tr th {\n        vertical-align: top;\n    }\n\n    .dataframe thead th {\n        text-align: right;\n    }\n</style>\n<table border=\"1\" class=\"dataframe\">\n  <thead>\n    <tr style=\"text-align: right;\">\n      <th></th>\n      <th>orig</th>\n      <th>pred_test</th>\n    </tr>\n  </thead>\n  <tbody>\n    <tr>\n      <th>35844</th>\n      <td>0.0</td>\n      <td>0.000000</td>\n    </tr>\n    <tr>\n      <th>18346</th>\n      <td>0.0</td>\n      <td>0.000000</td>\n    </tr>\n    <tr>\n      <th>8140</th>\n      <td>56.0</td>\n      <td>1.694509</td>\n    </tr>\n    <tr>\n      <th>43290</th>\n      <td>0.0</td>\n      <td>0.000000</td>\n    </tr>\n    <tr>\n      <th>40376</th>\n      <td>0.0</td>\n      <td>0.000000</td>\n    </tr>\n    <tr>\n      <th>...</th>\n      <td>...</td>\n      <td>...</td>\n    </tr>\n    <tr>\n      <th>1274</th>\n      <td>0.0</td>\n      <td>0.000000</td>\n    </tr>\n    <tr>\n      <th>13166</th>\n      <td>0.0</td>\n      <td>0.000000</td>\n    </tr>\n    <tr>\n      <th>45618</th>\n      <td>0.0</td>\n      <td>0.000000</td>\n    </tr>\n    <tr>\n      <th>44814</th>\n      <td>0.0</td>\n      <td>0.000000</td>\n    </tr>\n    <tr>\n      <th>12538</th>\n      <td>7.0</td>\n      <td>16.208780</td>\n    </tr>\n  </tbody>\n</table>\n<p>15277 rows × 2 columns</p>\n</div>"
     },
     "metadata": {},
     "execution_count": 174
    }
   ],
   "source": [
    "d={\"orig\":y_test,\"pred_test\":pred}\n",
    "preddf=pd.DataFrame(d)\n",
    "\n",
    "\n",
    "preddf"
   ]
  },
  {
   "cell_type": "code",
   "execution_count": 175,
   "metadata": {},
   "outputs": [
    {
     "output_type": "execute_result",
     "data": {
      "text/plain": [
       "2.7467226615210842"
      ]
     },
     "metadata": {},
     "execution_count": 175
    }
   ],
   "source": [
    "mean_absolute_error(preddf[\"orig\"],preddf[\"pred_test\"])"
   ]
  },
  {
   "cell_type": "code",
   "execution_count": 9,
   "metadata": {},
   "outputs": [],
   "source": [
    "yearlist=df.year.unique()\n",
    "MonDay={}\n",
    "for year in yearlist:\n",
    "    yeardf=df[df.year==year]\n",
    "    for frame,row in df.iterrows():\n",
    "        monthday=str(row[\"day\"])+\"_\"+str(row[\"month\"])\n",
    "        if monthday not in MonDay.keys():\n",
    "            MonDay[monthday]=[]\n",
    "        \n",
    "        MonDay[monthday].append(row[\"rain\"])\n",
    "\n",
    "meandict={}\n",
    "for key in MonDay.keys():\n",
    "    themean=np.mean(np.array(MonDay[key]))\n",
    "    if themean==0.0:\n",
    "        meandict[key]=themean\n",
    "    else:\n",
    "        meandict[key]=themean\n"
   ]
  },
  {
   "cell_type": "code",
   "execution_count": 13,
   "metadata": {},
   "outputs": [
    {
     "output_type": "execute_result",
     "data": {
      "text/plain": [
       "0.0288"
      ]
     },
     "metadata": {},
     "execution_count": 13
    }
   ],
   "source": [
    "meandict[\"4_1\"]"
   ]
  },
  {
   "cell_type": "code",
   "execution_count": 191,
   "metadata": {},
   "outputs": [
    {
     "output_type": "execute_result",
     "data": {
      "text/plain": [
       "       month  day  year  is_rain  sparse1  sparse2  sparse3  sparse4  sparse5  \\\n",
       "35844      3   29  2018        0        0        0        0        0        0   \n",
       "18346      4    1  2014        0        0        0        0        0        0   \n",
       "8140      12    3  2011        0        2        0        0        2        0   \n",
       "43290      7   18  2019        0        0        0        2        0        0   \n",
       "40376      2    6  2019        0        0        0        0        0        0   \n",
       "...      ...  ...   ...      ...      ...      ...      ...      ...      ...   \n",
       "1274       4   26  2010        0        0        0        0        0        0   \n",
       "13166      1   25  2013        0        0        0        0        0        0   \n",
       "45618     11   24  2019        0        0        0        0        0        0   \n",
       "44814     10   10  2019        0        0        0        0        0        0   \n",
       "12538     12    3  2012        0        2        0        0        2        0   \n",
       "\n",
       "       sparse6  ...  District_Melalathur  District_Natrampalli  \\\n",
       "35844        0  ...                    0                     0   \n",
       "18346        0  ...                    0                     0   \n",
       "8140         2  ...                    0                     0   \n",
       "43290        0  ...                    0                     0   \n",
       "40376        0  ...                    1                     0   \n",
       "...        ...  ...                  ...                   ...   \n",
       "1274         0  ...                    0                     0   \n",
       "13166        0  ...                    0                     0   \n",
       "45618        0  ...                    0                     0   \n",
       "44814        0  ...                    0                     0   \n",
       "12538        2  ...                    0                     0   \n",
       "\n",
       "       District_Ponnai  District_Sholingur  District_TCS Mill  \\\n",
       "35844                0                   0                  0   \n",
       "18346                0                   0                  0   \n",
       "8140                 0                   0                  0   \n",
       "43290                0                   0                  0   \n",
       "40376                0                   0                  0   \n",
       "...                ...                 ...                ...   \n",
       "1274                 0                   0                  0   \n",
       "13166                0                   0                  0   \n",
       "45618                0                   0                  0   \n",
       "44814                0                   0                  0   \n",
       "12538                0                   0                  0   \n",
       "\n",
       "       District_Tirupattur  District_VCS Mill  District_Vaniyambadi  \\\n",
       "35844                    0                  0                     0   \n",
       "18346                    1                  0                     0   \n",
       "8140                     0                  0                     0   \n",
       "43290                    0                  0                     0   \n",
       "40376                    0                  0                     0   \n",
       "...                    ...                ...                   ...   \n",
       "1274                     0                  0                     0   \n",
       "13166                    0                  0                     0   \n",
       "45618                    0                  0                     0   \n",
       "44814                    0                  1                     0   \n",
       "12538                    1                  0                     0   \n",
       "\n",
       "       District_Vellore  District_Wallajah  \n",
       "35844                 1                  0  \n",
       "18346                 0                  0  \n",
       "8140                  0                  0  \n",
       "43290                 0                  0  \n",
       "40376                 0                  0  \n",
       "...                 ...                ...  \n",
       "1274                  1                  0  \n",
       "13166                 0                  0  \n",
       "45618                 1                  0  \n",
       "44814                 0                  0  \n",
       "12538                 0                  0  \n",
       "\n",
       "[15277 rows x 30 columns]"
      ],
      "text/html": "<div>\n<style scoped>\n    .dataframe tbody tr th:only-of-type {\n        vertical-align: middle;\n    }\n\n    .dataframe tbody tr th {\n        vertical-align: top;\n    }\n\n    .dataframe thead th {\n        text-align: right;\n    }\n</style>\n<table border=\"1\" class=\"dataframe\">\n  <thead>\n    <tr style=\"text-align: right;\">\n      <th></th>\n      <th>month</th>\n      <th>day</th>\n      <th>year</th>\n      <th>is_rain</th>\n      <th>sparse1</th>\n      <th>sparse2</th>\n      <th>sparse3</th>\n      <th>sparse4</th>\n      <th>sparse5</th>\n      <th>sparse6</th>\n      <th>...</th>\n      <th>District_Melalathur</th>\n      <th>District_Natrampalli</th>\n      <th>District_Ponnai</th>\n      <th>District_Sholingur</th>\n      <th>District_TCS Mill</th>\n      <th>District_Tirupattur</th>\n      <th>District_VCS Mill</th>\n      <th>District_Vaniyambadi</th>\n      <th>District_Vellore</th>\n      <th>District_Wallajah</th>\n    </tr>\n  </thead>\n  <tbody>\n    <tr>\n      <th>35844</th>\n      <td>3</td>\n      <td>29</td>\n      <td>2018</td>\n      <td>0</td>\n      <td>0</td>\n      <td>0</td>\n      <td>0</td>\n      <td>0</td>\n      <td>0</td>\n      <td>0</td>\n      <td>...</td>\n      <td>0</td>\n      <td>0</td>\n      <td>0</td>\n      <td>0</td>\n      <td>0</td>\n      <td>0</td>\n      <td>0</td>\n      <td>0</td>\n      <td>1</td>\n      <td>0</td>\n    </tr>\n    <tr>\n      <th>18346</th>\n      <td>4</td>\n      <td>1</td>\n      <td>2014</td>\n      <td>0</td>\n      <td>0</td>\n      <td>0</td>\n      <td>0</td>\n      <td>0</td>\n      <td>0</td>\n      <td>0</td>\n      <td>...</td>\n      <td>0</td>\n      <td>0</td>\n      <td>0</td>\n      <td>0</td>\n      <td>0</td>\n      <td>1</td>\n      <td>0</td>\n      <td>0</td>\n      <td>0</td>\n      <td>0</td>\n    </tr>\n    <tr>\n      <th>8140</th>\n      <td>12</td>\n      <td>3</td>\n      <td>2011</td>\n      <td>0</td>\n      <td>2</td>\n      <td>0</td>\n      <td>0</td>\n      <td>2</td>\n      <td>0</td>\n      <td>2</td>\n      <td>...</td>\n      <td>0</td>\n      <td>0</td>\n      <td>0</td>\n      <td>0</td>\n      <td>0</td>\n      <td>0</td>\n      <td>0</td>\n      <td>0</td>\n      <td>0</td>\n      <td>0</td>\n    </tr>\n    <tr>\n      <th>43290</th>\n      <td>7</td>\n      <td>18</td>\n      <td>2019</td>\n      <td>0</td>\n      <td>0</td>\n      <td>0</td>\n      <td>2</td>\n      <td>0</td>\n      <td>0</td>\n      <td>0</td>\n      <td>...</td>\n      <td>0</td>\n      <td>0</td>\n      <td>0</td>\n      <td>0</td>\n      <td>0</td>\n      <td>0</td>\n      <td>0</td>\n      <td>0</td>\n      <td>0</td>\n      <td>0</td>\n    </tr>\n    <tr>\n      <th>40376</th>\n      <td>2</td>\n      <td>6</td>\n      <td>2019</td>\n      <td>0</td>\n      <td>0</td>\n      <td>0</td>\n      <td>0</td>\n      <td>0</td>\n      <td>0</td>\n      <td>0</td>\n      <td>...</td>\n      <td>1</td>\n      <td>0</td>\n      <td>0</td>\n      <td>0</td>\n      <td>0</td>\n      <td>0</td>\n      <td>0</td>\n      <td>0</td>\n      <td>0</td>\n      <td>0</td>\n    </tr>\n    <tr>\n      <th>...</th>\n      <td>...</td>\n      <td>...</td>\n      <td>...</td>\n      <td>...</td>\n      <td>...</td>\n      <td>...</td>\n      <td>...</td>\n      <td>...</td>\n      <td>...</td>\n      <td>...</td>\n      <td>...</td>\n      <td>...</td>\n      <td>...</td>\n      <td>...</td>\n      <td>...</td>\n      <td>...</td>\n      <td>...</td>\n      <td>...</td>\n      <td>...</td>\n      <td>...</td>\n      <td>...</td>\n    </tr>\n    <tr>\n      <th>1274</th>\n      <td>4</td>\n      <td>26</td>\n      <td>2010</td>\n      <td>0</td>\n      <td>0</td>\n      <td>0</td>\n      <td>0</td>\n      <td>0</td>\n      <td>0</td>\n      <td>0</td>\n      <td>...</td>\n      <td>0</td>\n      <td>0</td>\n      <td>0</td>\n      <td>0</td>\n      <td>0</td>\n      <td>0</td>\n      <td>0</td>\n      <td>0</td>\n      <td>1</td>\n      <td>0</td>\n    </tr>\n    <tr>\n      <th>13166</th>\n      <td>1</td>\n      <td>25</td>\n      <td>2013</td>\n      <td>0</td>\n      <td>0</td>\n      <td>0</td>\n      <td>0</td>\n      <td>0</td>\n      <td>0</td>\n      <td>0</td>\n      <td>...</td>\n      <td>0</td>\n      <td>0</td>\n      <td>0</td>\n      <td>0</td>\n      <td>0</td>\n      <td>0</td>\n      <td>0</td>\n      <td>0</td>\n      <td>0</td>\n      <td>0</td>\n    </tr>\n    <tr>\n      <th>45618</th>\n      <td>11</td>\n      <td>24</td>\n      <td>2019</td>\n      <td>0</td>\n      <td>0</td>\n      <td>0</td>\n      <td>0</td>\n      <td>0</td>\n      <td>0</td>\n      <td>0</td>\n      <td>...</td>\n      <td>0</td>\n      <td>0</td>\n      <td>0</td>\n      <td>0</td>\n      <td>0</td>\n      <td>0</td>\n      <td>0</td>\n      <td>0</td>\n      <td>1</td>\n      <td>0</td>\n    </tr>\n    <tr>\n      <th>44814</th>\n      <td>10</td>\n      <td>10</td>\n      <td>2019</td>\n      <td>0</td>\n      <td>0</td>\n      <td>0</td>\n      <td>0</td>\n      <td>0</td>\n      <td>0</td>\n      <td>0</td>\n      <td>...</td>\n      <td>0</td>\n      <td>0</td>\n      <td>0</td>\n      <td>0</td>\n      <td>0</td>\n      <td>0</td>\n      <td>1</td>\n      <td>0</td>\n      <td>0</td>\n      <td>0</td>\n    </tr>\n    <tr>\n      <th>12538</th>\n      <td>12</td>\n      <td>3</td>\n      <td>2012</td>\n      <td>0</td>\n      <td>2</td>\n      <td>0</td>\n      <td>0</td>\n      <td>2</td>\n      <td>0</td>\n      <td>2</td>\n      <td>...</td>\n      <td>0</td>\n      <td>0</td>\n      <td>0</td>\n      <td>0</td>\n      <td>0</td>\n      <td>1</td>\n      <td>0</td>\n      <td>0</td>\n      <td>0</td>\n      <td>0</td>\n    </tr>\n  </tbody>\n</table>\n<p>15277 rows × 30 columns</p>\n</div>"
     },
     "metadata": {},
     "execution_count": 191
    }
   ],
   "source": [
    "X_test"
   ]
  },
  {
   "cell_type": "code",
   "execution_count": 192,
   "metadata": {},
   "outputs": [
    {
     "output_type": "stream",
     "name": "stdout",
     "text": [
      "Requirement already satisfied: pystan==2.19.1.1 in c:\\users\\om purohit\\anaconda3\\lib\\site-packages (2.19.1.1)\n",
      "Requirement already satisfied: Cython!=0.25.1,>=0.22 in c:\\users\\om purohit\\anaconda3\\lib\\site-packages (from pystan==2.19.1.1) (0.29.21)\n",
      "Requirement already satisfied: numpy>=1.7 in c:\\users\\om purohit\\anaconda3\\lib\\site-packages (from pystan==2.19.1.1) (1.18.5)\n",
      "^C\n"
     ]
    }
   ],
   "source": [
    "!pip install pystan==2.19.1.1\n",
    "!pip install prophet"
   ]
  },
  {
   "cell_type": "code",
   "execution_count": 206,
   "metadata": {},
   "outputs": [
    {
     "output_type": "execute_result",
     "data": {
      "text/plain": [
       "70.63919713812233"
      ]
     },
     "metadata": {},
     "execution_count": 206
    }
   ],
   "source": [
    "from sklearn.linear_model import LinearRegression\n",
    "reg = LinearRegression().fit(X_train, y_train)\n",
    "predreg=reg.predict(X_test)\n",
    "mean_absolute_error(y_test,predreg)\n",
    "mean_squared_error(y_test,predreg)"
   ]
  },
  {
   "cell_type": "code",
   "execution_count": 182,
   "metadata": {},
   "outputs": [
    {
     "output_type": "stream",
     "name": "stderr",
     "text": [
      "C:\\Users\\om purohit\\anaconda3\\lib\\site-packages\\sklearn\\svm\\_base.py:976: ConvergenceWarning: Liblinear failed to converge, increase the number of iterations.\n  warnings.warn(\"Liblinear failed to converge, increase \"\n"
     ]
    },
    {
     "output_type": "execute_result",
     "data": {
      "text/plain": [
       "5.279284447484633"
      ]
     },
     "metadata": {},
     "execution_count": 182
    }
   ],
   "source": [
    "from sklearn.svm import LinearSVR\n",
    "eps = 5\n",
    "svr = LinearSVR(epsilon=eps, C=0.1,)\n",
    "svr.fit(X_train,y_train)\n",
    "predsvr=svr.predict(X_test)\n",
    "for i in range(len(predsvr)):\n",
    "    if predsvr[i]<1:\n",
    "        predsvr[i]=0\n",
    "mean_absolute_error(y_test,predsvr)"
   ]
  },
  {
   "cell_type": "code",
   "execution_count": null,
   "metadata": {},
   "outputs": [],
   "source": [
    "\n"
   ]
  }
 ]
}