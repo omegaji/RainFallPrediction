{
 "metadata": {
  "language_info": {
   "codemirror_mode": {
    "name": "ipython",
    "version": 3
   },
   "file_extension": ".py",
   "mimetype": "text/x-python",
   "name": "python",
   "nbconvert_exporter": "python",
   "pygments_lexer": "ipython3",
   "version": "3.8.3"
  },
  "orig_nbformat": 2,
  "kernelspec": {
   "name": "python383jvsc74a57bd04679094c71e58fd5daa32654c6d4dcc218cb243910207196539a7dfc04a8a332",
   "display_name": "Python 3.8.3 64-bit (conda)"
  }
 },
 "nbformat": 4,
 "nbformat_minor": 2,
 "cells": [
  {
   "cell_type": "code",
   "execution_count": 1,
   "metadata": {},
   "outputs": [],
   "source": [
    "import pandas as pd\n",
    "import numpy as np\n",
    "df=pd.read_csv(\"combined.csv\")\n",
    "\n",
    "def convertToFloat(x):\n",
    "    x=x.strip()\n",
    "    if x==\"-\" or x==\"NR\" or x=='' or x==\".\" or x==\"\" or x==' ':\n",
    "        return 0\n",
    "    else:\n",
    "        \n",
    "        return float(x)\n",
    "df[\"rain\"]=df[\"Rain\"].apply(convertToFloat)\n",
    "# import datetime\n",
    "df.pop(\"Rain\")\n",
    "aldf=df[df.District==\"Alangayam\"]\n",
    "# df[\"month\"]=df[\"Date\"].apply(lambda x:datetime.datetime.strptime(x,\"%Y-%m-%d\").month)\n",
    "# df[\"year\"]=df[\"Date\"].apply(lambda x: datetime.datetime.strptime(x,\"%Y-%m-%d\").year)\n",
    "# df[\"day\"]=df[\"Date\"].apply(lambda x: datetime.datetime.strptime(x,\"%Y-%m-%d\").day)"
   ]
  },
  {
   "cell_type": "code",
   "execution_count": 2,
   "metadata": {},
   "outputs": [
    {
     "output_type": "execute_result",
     "data": {
      "text/plain": [
       "array([[0.],\n",
       "       [0.],\n",
       "       [0.],\n",
       "       ...,\n",
       "       [0.],\n",
       "       [0.],\n",
       "       [0.]])"
      ]
     },
     "metadata": {},
     "execution_count": 2
    }
   ],
   "source": [
    "dataset=aldf[[\"rain\"]].values\n",
    "dataset "
   ]
  },
  {
   "cell_type": "code",
   "execution_count": 3,
   "metadata": {},
   "outputs": [
    {
     "output_type": "stream",
     "name": "stdout",
     "text": [
      "2.4.0\n2.3.1\n"
     ]
    }
   ],
   "source": [
    "from keras.models import Sequential\n",
    "from keras.layers import Dense\n",
    "from keras.layers import LSTM\n",
    "from sklearn.preprocessing import MinMaxScaler\n",
    "from sklearn.metrics import mean_squared_error\n",
    "from tensorflow import keras\n",
    "print(keras.__version__)\n",
    "import tensorflow\n",
    "print(tensorflow.__version__)"
   ]
  },
  {
   "cell_type": "code",
   "execution_count": 6,
   "metadata": {},
   "outputs": [
    {
     "output_type": "error",
     "ename": "NameError",
     "evalue": "name 'scaler' is not defined",
     "traceback": [
      "\u001b[1;31m---------------------------------------------------------------------------\u001b[0m",
      "\u001b[1;31mNameError\u001b[0m                                 Traceback (most recent call last)",
      "\u001b[1;32m<ipython-input-6-c66668df774f>\u001b[0m in \u001b[0;36m<module>\u001b[1;34m\u001b[0m\n\u001b[0;32m      1\u001b[0m \u001b[0mnp\u001b[0m\u001b[1;33m.\u001b[0m\u001b[0mrandom\u001b[0m\u001b[1;33m.\u001b[0m\u001b[0mseed\u001b[0m\u001b[1;33m(\u001b[0m\u001b[1;36m7\u001b[0m\u001b[1;33m)\u001b[0m\u001b[1;33m\u001b[0m\u001b[1;33m\u001b[0m\u001b[0m\n\u001b[0;32m      2\u001b[0m \u001b[1;33m\u001b[0m\u001b[0m\n\u001b[1;32m----> 3\u001b[1;33m \u001b[0mdataset\u001b[0m\u001b[1;33m=\u001b[0m\u001b[0mscaler\u001b[0m\u001b[1;33m.\u001b[0m\u001b[0mfit_transform\u001b[0m\u001b[1;33m(\u001b[0m\u001b[0mdataset\u001b[0m\u001b[1;33m)\u001b[0m\u001b[1;33m\u001b[0m\u001b[1;33m\u001b[0m\u001b[0m\n\u001b[0m",
      "\u001b[1;31mNameError\u001b[0m: name 'scaler' is not defined"
     ]
    }
   ],
   "source": [
    "np.random.seed(7)\n",
    "\n",
    "dataset=scaler.fit_transform(dataset)"
   ]
  },
  {
   "cell_type": "code",
   "execution_count": 4,
   "metadata": {},
   "outputs": [],
   "source": [
    "def CreateDataset(dataset,lookback):\n",
    "    DataX=[]\n",
    "    DataY=[]\n",
    "    for i in range(len(dataset)-lookback-1):\n",
    "        DataX.append(dataset[i:(lookback+i),0])\n",
    "        DataY.append(dataset[(lookback+i),0])\n",
    "    return np.array(DataX),np.array(DataY)"
   ]
  },
  {
   "cell_type": "code",
   "execution_count": 3,
   "metadata": {},
   "outputs": [
    {
     "output_type": "error",
     "ename": "NameError",
     "evalue": "name 'trainX' is not defined",
     "traceback": [
      "\u001b[1;31m---------------------------------------------------------------------------\u001b[0m",
      "\u001b[1;31mNameError\u001b[0m                                 Traceback (most recent call last)",
      "\u001b[1;32m<ipython-input-3-12654d2d9272>\u001b[0m in \u001b[0;36m<module>\u001b[1;34m\u001b[0m\n\u001b[1;32m----> 1\u001b[1;33m \u001b[0mtrainX\u001b[0m\u001b[1;33m\u001b[0m\u001b[1;33m\u001b[0m\u001b[0m\n\u001b[0m",
      "\u001b[1;31mNameError\u001b[0m: name 'trainX' is not defined"
     ]
    }
   ],
   "source": [
    "trainX"
   ]
  },
  {
   "cell_type": "code",
   "execution_count": 5,
   "metadata": {},
   "outputs": [],
   "source": [
    "trainsize=3287\n",
    "testsize=365\n",
    "train, test = dataset[0:trainsize,:], dataset[trainsize:len(dataset),:]"
   ]
  },
  {
   "cell_type": "code",
   "execution_count": 12,
   "metadata": {},
   "outputs": [],
   "source": [
    "look_back=90\n",
    "trainX,trainY=CreateDataset(train,look_back)\n",
    "testX,testY=CreateDataset(test,look_back)\n",
    "# reshape input to be [samples, time steps, features]\n",
    "trainX = np.reshape(trainX, (trainX.shape[0], 1, trainX.shape[1]))\n",
    "testX = np.reshape(testX, (testX.shape[0], 1, testX.shape[1]))"
   ]
  },
  {
   "cell_type": "code",
   "execution_count": 103,
   "metadata": {},
   "outputs": [],
   "source": []
  },
  {
   "cell_type": "code",
   "execution_count": 10,
   "metadata": {},
   "outputs": [],
   "source": []
  },
  {
   "cell_type": "code",
   "execution_count": 218,
   "metadata": {
    "tags": []
   },
   "outputs": [
    {
     "output_type": "error",
     "ename": "SyntaxError",
     "evalue": "invalid syntax (<ipython-input-218-7474edad756f>, line 1)",
     "traceback": [
      "\u001b[1;36m  File \u001b[1;32m\"<ipython-input-218-7474edad756f>\"\u001b[1;36m, line \u001b[1;32m1\u001b[0m\n\u001b[1;33m    2=@\u001b[0m\n\u001b[1;37m      ^\u001b[0m\n\u001b[1;31mSyntaxError\u001b[0m\u001b[1;31m:\u001b[0m invalid syntax\n"
     ]
    }
   ],
   "source": [
    "2=@"
   ]
  },
  {
   "cell_type": "code",
   "execution_count": 14,
   "metadata": {},
   "outputs": [
    {
     "output_type": "stream",
     "name": "stdout",
     "text": [
      "Epoch 1/100\n",
      "3196/3196 - 4s - loss: 88.8806\n",
      "Epoch 2/100\n",
      "3196/3196 - 4s - loss: 84.2250\n",
      "Epoch 3/100\n",
      "3196/3196 - 4s - loss: 81.8076\n",
      "Epoch 4/100\n",
      "3196/3196 - 3s - loss: 80.4562\n",
      "Epoch 5/100\n",
      "3196/3196 - 4s - loss: 78.4136\n",
      "Epoch 6/100\n",
      "3196/3196 - 4s - loss: 76.7389\n",
      "Epoch 7/100\n",
      "3196/3196 - 4s - loss: 74.5879\n",
      "Epoch 8/100\n",
      "3196/3196 - 4s - loss: 72.6190\n",
      "Epoch 9/100\n",
      "3196/3196 - 4s - loss: 70.7227\n",
      "Epoch 10/100\n",
      "3196/3196 - 3s - loss: 69.0663\n",
      "Epoch 11/100\n",
      "3196/3196 - 3s - loss: 66.7952\n",
      "Epoch 12/100\n",
      "3196/3196 - 3s - loss: 65.3558\n",
      "Epoch 13/100\n",
      "3196/3196 - 3s - loss: 63.7998\n",
      "Epoch 14/100\n",
      "3196/3196 - 3s - loss: 62.4153\n",
      "Epoch 15/100\n",
      "3196/3196 - 3s - loss: 60.4996\n",
      "Epoch 16/100\n",
      "3196/3196 - 4s - loss: 59.7065\n",
      "Epoch 17/100\n",
      "3196/3196 - 3s - loss: 57.6365\n",
      "Epoch 18/100\n",
      "3196/3196 - 4s - loss: 56.4311\n",
      "Epoch 19/100\n",
      "3196/3196 - 3s - loss: 54.9087\n",
      "Epoch 20/100\n",
      "3196/3196 - 3s - loss: 53.0781\n",
      "Epoch 21/100\n",
      "3196/3196 - 3s - loss: 51.9624\n",
      "Epoch 22/100\n",
      "3196/3196 - 3s - loss: 50.7077\n",
      "Epoch 23/100\n",
      "3196/3196 - 4s - loss: 49.5311\n",
      "Epoch 24/100\n",
      "3196/3196 - 4s - loss: 47.9628\n",
      "Epoch 25/100\n",
      "3196/3196 - 4s - loss: 47.5240\n",
      "Epoch 26/100\n",
      "3196/3196 - 3s - loss: 46.0030\n",
      "Epoch 27/100\n",
      "3196/3196 - 3s - loss: 44.4895\n",
      "Epoch 28/100\n",
      "3196/3196 - 3s - loss: 45.4550\n",
      "Epoch 29/100\n",
      "3196/3196 - 3s - loss: 44.1264\n",
      "Epoch 30/100\n",
      "3196/3196 - 3s - loss: 41.9949\n",
      "Epoch 31/100\n",
      "3196/3196 - 3s - loss: 42.2477\n",
      "Epoch 32/100\n",
      "3196/3196 - 3s - loss: 41.8684\n",
      "Epoch 33/100\n",
      "3196/3196 - 3s - loss: 42.0069\n",
      "Epoch 34/100\n",
      "3196/3196 - 3s - loss: 39.0443\n",
      "Epoch 35/100\n",
      "3196/3196 - 3s - loss: 38.1224\n",
      "Epoch 36/100\n",
      "3196/3196 - 3s - loss: 37.5847\n",
      "Epoch 37/100\n",
      "3196/3196 - 3s - loss: 37.5971\n",
      "Epoch 38/100\n",
      "3196/3196 - 3s - loss: 36.3411\n",
      "Epoch 39/100\n",
      "3196/3196 - 3s - loss: 35.6443\n",
      "Epoch 40/100\n",
      "3196/3196 - 3s - loss: 35.4310\n",
      "Epoch 41/100\n",
      "3196/3196 - 4s - loss: 34.9275\n",
      "Epoch 42/100\n",
      "3196/3196 - 3s - loss: 34.1699\n",
      "Epoch 43/100\n",
      "3196/3196 - 3s - loss: 34.0224\n",
      "Epoch 44/100\n",
      "3196/3196 - 3s - loss: 33.2324\n",
      "Epoch 45/100\n",
      "3196/3196 - 3s - loss: 32.9539\n",
      "Epoch 46/100\n",
      "3196/3196 - 3s - loss: 32.3196\n",
      "Epoch 47/100\n",
      "3196/3196 - 3s - loss: 31.0733\n",
      "Epoch 48/100\n",
      "3196/3196 - 4s - loss: 31.3298\n",
      "Epoch 49/100\n",
      "3196/3196 - 4s - loss: 32.5506\n",
      "Epoch 50/100\n",
      "3196/3196 - 4s - loss: 32.1062\n",
      "Epoch 51/100\n",
      "3196/3196 - 4s - loss: 30.9506\n",
      "Epoch 52/100\n",
      "3196/3196 - 4s - loss: 29.3236\n",
      "Epoch 53/100\n",
      "3196/3196 - 4s - loss: 29.2264\n",
      "Epoch 54/100\n",
      "3196/3196 - 4s - loss: 29.3757\n",
      "Epoch 55/100\n",
      "3196/3196 - 5s - loss: 29.2380\n",
      "Epoch 56/100\n",
      "3196/3196 - 5s - loss: 28.2942\n",
      "Epoch 57/100\n",
      "3196/3196 - 5s - loss: 28.4816\n",
      "Epoch 58/100\n",
      "3196/3196 - 4s - loss: 28.1976\n",
      "Epoch 59/100\n",
      "3196/3196 - 5s - loss: 28.1809\n",
      "Epoch 60/100\n",
      "3196/3196 - 5s - loss: 27.0227\n",
      "Epoch 61/100\n",
      "3196/3196 - 4s - loss: 27.9399\n",
      "Epoch 62/100\n",
      "3196/3196 - 4s - loss: 27.7333\n",
      "Epoch 63/100\n",
      "3196/3196 - 4s - loss: 27.6930\n",
      "Epoch 64/100\n",
      "3196/3196 - 4s - loss: 27.0631\n",
      "Epoch 65/100\n",
      "3196/3196 - 4s - loss: 26.6291\n",
      "Epoch 66/100\n",
      "3196/3196 - 4s - loss: 26.9257\n",
      "Epoch 67/100\n",
      "3196/3196 - 3s - loss: 28.2804\n",
      "Epoch 68/100\n",
      "3196/3196 - 3s - loss: 25.9338\n",
      "Epoch 69/100\n",
      "3196/3196 - 3s - loss: 25.7009\n",
      "Epoch 70/100\n",
      "3196/3196 - 4s - loss: 25.7758\n",
      "Epoch 71/100\n",
      "3196/3196 - 4s - loss: 25.0433\n",
      "Epoch 72/100\n",
      "3196/3196 - 5s - loss: 23.8813\n",
      "Epoch 73/100\n",
      "3196/3196 - 5s - loss: 25.6484\n",
      "Epoch 74/100\n",
      "3196/3196 - 5s - loss: 23.3730\n",
      "Epoch 75/100\n",
      "3196/3196 - 4s - loss: 24.5170\n",
      "Epoch 76/100\n",
      "3196/3196 - 4s - loss: 23.9261\n",
      "Epoch 77/100\n",
      "3196/3196 - 4s - loss: 23.8855\n",
      "Epoch 78/100\n",
      "3196/3196 - 4s - loss: 24.3608\n",
      "Epoch 79/100\n",
      "3196/3196 - 5s - loss: 23.4547\n",
      "Epoch 80/100\n",
      "3196/3196 - 4s - loss: 23.2887\n",
      "Epoch 81/100\n",
      "3196/3196 - 3s - loss: 24.1564\n",
      "Epoch 82/100\n",
      "3196/3196 - 3s - loss: 24.6593\n",
      "Epoch 83/100\n",
      "3196/3196 - 3s - loss: 23.9160\n",
      "Epoch 84/100\n",
      "3196/3196 - 3s - loss: 22.9999\n",
      "Epoch 85/100\n",
      "3196/3196 - 4s - loss: 22.5495\n",
      "Epoch 86/100\n",
      "3196/3196 - 4s - loss: 23.2723\n",
      "Epoch 87/100\n",
      "3196/3196 - 4s - loss: 21.6239\n",
      "Epoch 88/100\n",
      "3196/3196 - 4s - loss: 21.6575\n",
      "Epoch 89/100\n",
      "3196/3196 - 3s - loss: 21.1541\n",
      "Epoch 90/100\n",
      "3196/3196 - 3s - loss: 21.4522\n",
      "Epoch 91/100\n",
      "3196/3196 - 3s - loss: 22.2064\n",
      "Epoch 92/100\n",
      "3196/3196 - 3s - loss: 20.9600\n",
      "Epoch 93/100\n",
      "3196/3196 - 4s - loss: 22.1602\n",
      "Epoch 94/100\n",
      "3196/3196 - 4s - loss: 23.6332\n",
      "Epoch 95/100\n",
      "3196/3196 - 4s - loss: 21.6626\n",
      "Epoch 96/100\n",
      "3196/3196 - 4s - loss: 22.2685\n",
      "Epoch 97/100\n",
      "3196/3196 - 4s - loss: 21.2421\n",
      "Epoch 98/100\n",
      "3196/3196 - 4s - loss: 21.9357\n",
      "Epoch 99/100\n",
      "3196/3196 - 4s - loss: 20.8912\n",
      "Epoch 100/100\n",
      "3196/3196 - 4s - loss: 20.9443\n"
     ]
    },
    {
     "output_type": "execute_result",
     "data": {
      "text/plain": [
       "<tensorflow.python.keras.callbacks.History at 0x26cd5027bb0>"
      ]
     },
     "metadata": {},
     "execution_count": 14
    }
   ],
   "source": [
    "model = Sequential()\n",
    "\n",
    "opt = keras.optimizers.Adam()\n",
    "model.add(keras.layers.Bidirectional(LSTM(4, input_shape=(1, look_back))))\n",
    "model.add(Dense(1,activation=\"relu\"))\n",
    "model.compile(loss='mean_squared_error', optimizer=opt)\n",
    "model.fit(trainX, trainY, epochs=100, batch_size=1, verbose=2)"
   ]
  },
  {
   "cell_type": "code",
   "execution_count": 13,
   "metadata": {},
   "outputs": [],
   "source": []
  },
  {
   "cell_type": "code",
   "execution_count": 16,
   "metadata": {},
   "outputs": [],
   "source": [
    "trainPredict = model.predict (trainX)\n",
    "testPredict = model.predict(testX)\n",
    "\n",
    "from sklearn.metrics import mean_squared_error\n",
    "\n",
    "\n",
    "ypred=testPredict.reshape(274)\n",
    "ty=testY.reshape(274)\n",
    "\n",
    "# rainPredict = scaler.inverse_transform(trainPredict)\n",
    "# trainY = scaler.inverse_transform([trainY])\n",
    "# testPredict = scaler.inverse_transform(testPredict)\n",
    "# testY = scaler.inverse_transform([testY])"
   ]
  },
  {
   "cell_type": "code",
   "execution_count": 15,
   "metadata": {},
   "outputs": [],
   "source": []
  },
  {
   "cell_type": "code",
   "execution_count": 17,
   "metadata": {},
   "outputs": [
    {
     "output_type": "execute_result",
     "data": {
      "text/plain": [
       "189.65859175083764"
      ]
     },
     "metadata": {},
     "execution_count": 17
    }
   ],
   "source": [
    "from sklearn.metrics import mean_absolute_error\n",
    "mean_absolute_error(ty,ypred)\n",
    "mean_squared_error(ty,ypred)"
   ]
  },
  {
   "cell_type": "code",
   "execution_count": 19,
   "metadata": {},
   "outputs": [
    {
     "output_type": "execute_result",
     "data": {
      "text/plain": [
       "(30,)"
      ]
     },
     "metadata": {},
     "execution_count": 19
    }
   ],
   "source": [
    "ypred[ypred>0].shape"
   ]
  },
  {
   "cell_type": "code",
   "execution_count": 20,
   "metadata": {},
   "outputs": [
    {
     "output_type": "execute_result",
     "data": {
      "text/plain": [
       "(334,)"
      ]
     },
     "metadata": {},
     "execution_count": 20
    }
   ],
   "source": [
    "ypred.shape"
   ]
  },
  {
   "cell_type": "code",
   "execution_count": null,
   "metadata": {},
   "outputs": [],
   "source": []
  }
 ]
}