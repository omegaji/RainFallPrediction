{
 "metadata": {
  "language_info": {
   "codemirror_mode": {
    "name": "ipython",
    "version": 3
   },
   "file_extension": ".py",
   "mimetype": "text/x-python",
   "name": "python",
   "nbconvert_exporter": "python",
   "pygments_lexer": "ipython3",
   "version": "3.8.3"
  },
  "orig_nbformat": 2,
  "kernelspec": {
   "name": "python383jvsc74a57bd04679094c71e58fd5daa32654c6d4dcc218cb243910207196539a7dfc04a8a332",
   "display_name": "Python 3.8.3 64-bit ('base': conda)"
  }
 },
 "nbformat": 4,
 "nbformat_minor": 2,
 "cells": [
  {
   "cell_type": "code",
   "execution_count": 202,
   "metadata": {},
   "outputs": [],
   "source": [
    "import pandas as pd\n",
    "import numpy as np\n",
    "df=pd.read_csv(\"combined.csv\")\n",
    "\n",
    "def convertToFloat(x):\n",
    "    x=x.strip()\n",
    "    if x==\"-\" or x==\"NR\" or x=='' or x==\".\" or x==\"\" or x==' ':\n",
    "        return 0\n",
    "    else:\n",
    "        \n",
    "        return float(x)\n",
    "df[\"rain\"]=df[\"Rain\"].apply(convertToFloat)\n",
    "# import datetime\n",
    "df.pop(\"Rain\")\n",
    "aldf=df[df.District==\"Alangayam\"]\n",
    "# df[\"month\"]=df[\"Date\"].apply(lambda x:datetime.datetime.strptime(x,\"%Y-%m-%d\").month)\n",
    "# df[\"year\"]=df[\"Date\"].apply(lambda x: datetime.datetime.strptime(x,\"%Y-%m-%d\").year)\n",
    "# df[\"day\"]=df[\"Date\"].apply(lambda x: datetime.datetime.strptime(x,\"%Y-%m-%d\").day)"
   ]
  },
  {
   "cell_type": "code",
   "execution_count": 172,
   "metadata": {},
   "outputs": [
    {
     "output_type": "execute_result",
     "data": {
      "text/plain": [
       "array([[0.],\n",
       "       [0.],\n",
       "       [0.],\n",
       "       ...,\n",
       "       [0.],\n",
       "       [0.],\n",
       "       [0.]])"
      ]
     },
     "metadata": {},
     "execution_count": 172
    }
   ],
   "source": [
    "dataset=aldf[[\"rain\"]].values\n",
    "dataset "
   ]
  },
  {
   "cell_type": "code",
   "execution_count": 109,
   "metadata": {},
   "outputs": [],
   "source": [
    "from keras.models import Sequential\n",
    "from keras.layers import Dense\n",
    "from keras.layers import LSTM\n",
    "from sklearn.preprocessing import MinMaxScaler\n",
    "from sklearn.metrics import mean_squared_error\n",
    "from tensorflow import keras"
   ]
  },
  {
   "cell_type": "code",
   "execution_count": 203,
   "metadata": {},
   "outputs": [],
   "source": [
    "np.random.seed(7)\n",
    "scaler = MinMaxScaler(feature_range=(0, 1))\n",
    "dataset=scaler.fit_transform(dataset)"
   ]
  },
  {
   "cell_type": "code",
   "execution_count": 204,
   "metadata": {},
   "outputs": [],
   "source": [
    "def CreateDataset(dataset,lookback):\n",
    "    DataX=[]\n",
    "    DataY=[]\n",
    "    for i in range(len(dataset)-lookback-1):\n",
    "        DataX.append(dataset[i:(lookback+i),0])\n",
    "        DataY.append(dataset[(lookback+i),0])\n",
    "    return np.array(DataX),np.array(DataY)"
   ]
  },
  {
   "cell_type": "code",
   "execution_count": 205,
   "metadata": {},
   "outputs": [
    {
     "output_type": "execute_result",
     "data": {
      "text/plain": [
       "array([[[0., 0., 0., ..., 0., 0., 0.]],\n",
       "\n",
       "       [[0., 0., 0., ..., 0., 0., 0.]],\n",
       "\n",
       "       [[0., 0., 0., ..., 0., 0., 0.]],\n",
       "\n",
       "       ...,\n",
       "\n",
       "       [[0., 0., 0., ..., 0., 0., 0.]],\n",
       "\n",
       "       [[0., 0., 0., ..., 0., 0., 0.]],\n",
       "\n",
       "       [[0., 0., 0., ..., 0., 0., 0.]]])"
      ]
     },
     "metadata": {},
     "execution_count": 205
    }
   ],
   "source": [
    "trainX"
   ]
  },
  {
   "cell_type": "code",
   "execution_count": 206,
   "metadata": {},
   "outputs": [],
   "source": [
    "trainsize=3287\n",
    "testsize=365\n",
    "train, test = dataset[0:trainsize,:], dataset[trainsize:len(dataset),:]"
   ]
  },
  {
   "cell_type": "code",
   "execution_count": 216,
   "metadata": {},
   "outputs": [],
   "source": [
    "look_back=30\n",
    "trainX,trainY=CreateDataset(train,look_back)\n",
    "testX,testY=CreateDataset(test,look_back)\n"
   ]
  },
  {
   "cell_type": "code",
   "execution_count": 103,
   "metadata": {},
   "outputs": [],
   "source": []
  },
  {
   "cell_type": "code",
   "execution_count": 217,
   "metadata": {},
   "outputs": [],
   "source": [
    "# reshape input to be [samples, time steps, features]\n",
    "trainX = np.reshape(trainX, (trainX.shape[0], 1, trainX.shape[1]))\n",
    "testX = np.reshape(testX, (testX.shape[0], 1, testX.shape[1]))"
   ]
  },
  {
   "cell_type": "code",
   "execution_count": 218,
   "metadata": {
    "tags": []
   },
   "outputs": [
    {
     "output_type": "error",
     "ename": "SyntaxError",
     "evalue": "invalid syntax (<ipython-input-218-7474edad756f>, line 1)",
     "traceback": [
      "\u001b[1;36m  File \u001b[1;32m\"<ipython-input-218-7474edad756f>\"\u001b[1;36m, line \u001b[1;32m1\u001b[0m\n\u001b[1;33m    2=@\u001b[0m\n\u001b[1;37m      ^\u001b[0m\n\u001b[1;31mSyntaxError\u001b[0m\u001b[1;31m:\u001b[0m invalid syntax\n"
     ]
    }
   ],
   "source": [
    "2=@"
   ]
  },
  {
   "cell_type": "code",
   "execution_count": 220,
   "metadata": {},
   "outputs": [
    {
     "output_type": "stream",
     "name": "stdout",
     "text": [
      "Epoch 1/100\n",
      "3256/3256 - 3s - loss: 0.0177\n",
      "Epoch 2/100\n",
      "3256/3256 - 3s - loss: 0.0176\n",
      "Epoch 3/100\n",
      "3256/3256 - 3s - loss: 0.0176\n",
      "Epoch 4/100\n",
      "3256/3256 - 3s - loss: 0.0176\n",
      "Epoch 5/100\n",
      "3256/3256 - 3s - loss: 0.0176\n",
      "Epoch 6/100\n",
      "3256/3256 - 3s - loss: 0.0176\n",
      "Epoch 7/100\n",
      "3256/3256 - 3s - loss: 0.0176\n",
      "Epoch 8/100\n",
      "3256/3256 - 3s - loss: 0.0176\n",
      "Epoch 9/100\n",
      "3256/3256 - 3s - loss: 0.0176\n",
      "Epoch 10/100\n",
      "3256/3256 - 3s - loss: 0.0176\n",
      "Epoch 11/100\n",
      "3256/3256 - 3s - loss: 0.0176\n",
      "Epoch 12/100\n",
      "3256/3256 - 3s - loss: 0.0176\n",
      "Epoch 13/100\n",
      "3256/3256 - 3s - loss: 0.0176\n",
      "Epoch 14/100\n",
      "3256/3256 - 3s - loss: 0.0176\n",
      "Epoch 15/100\n",
      "3256/3256 - 3s - loss: 0.0176\n",
      "Epoch 16/100\n",
      "3256/3256 - 3s - loss: 0.0176\n",
      "Epoch 17/100\n",
      "3256/3256 - 3s - loss: 0.0176\n",
      "Epoch 18/100\n",
      "3256/3256 - 3s - loss: 0.0176\n",
      "Epoch 19/100\n",
      "3256/3256 - 3s - loss: 0.0176\n",
      "Epoch 20/100\n",
      "3256/3256 - 3s - loss: 0.0176\n",
      "Epoch 21/100\n",
      "3256/3256 - 3s - loss: 0.0176\n",
      "Epoch 22/100\n",
      "3256/3256 - 3s - loss: 0.0176\n",
      "Epoch 23/100\n",
      "3256/3256 - 3s - loss: 0.0176\n",
      "Epoch 24/100\n",
      "3256/3256 - 3s - loss: 0.0176\n",
      "Epoch 25/100\n",
      "3256/3256 - 3s - loss: 0.0176\n",
      "Epoch 26/100\n",
      "3256/3256 - 3s - loss: 0.0176\n",
      "Epoch 27/100\n",
      "3256/3256 - 3s - loss: 0.0176\n",
      "Epoch 28/100\n",
      "3256/3256 - 3s - loss: 0.0176\n",
      "Epoch 29/100\n",
      "3256/3256 - 3s - loss: 0.0176\n",
      "Epoch 30/100\n",
      "3256/3256 - 3s - loss: 0.0176\n",
      "Epoch 31/100\n",
      "3256/3256 - 3s - loss: 0.0176\n",
      "Epoch 32/100\n",
      "3256/3256 - 3s - loss: 0.0176\n",
      "Epoch 33/100\n",
      "3256/3256 - 3s - loss: 0.0176\n",
      "Epoch 34/100\n",
      "3256/3256 - 3s - loss: 0.0176\n",
      "Epoch 35/100\n",
      "3256/3256 - 3s - loss: 0.0176\n",
      "Epoch 36/100\n",
      "3256/3256 - 3s - loss: 0.0176\n",
      "Epoch 37/100\n",
      "3256/3256 - 3s - loss: 0.0176\n",
      "Epoch 38/100\n",
      "3256/3256 - 3s - loss: 0.0176\n",
      "Epoch 39/100\n",
      "3256/3256 - 3s - loss: 0.0176\n",
      "Epoch 40/100\n",
      "3256/3256 - 3s - loss: 0.0176\n",
      "Epoch 41/100\n",
      "3256/3256 - 3s - loss: 0.0176\n",
      "Epoch 42/100\n",
      "3256/3256 - 3s - loss: 0.0176\n",
      "Epoch 43/100\n",
      "3256/3256 - 3s - loss: 0.0176\n",
      "Epoch 44/100\n",
      "3256/3256 - 3s - loss: 0.0176\n",
      "Epoch 45/100\n",
      "3256/3256 - 3s - loss: 0.0176\n",
      "Epoch 46/100\n",
      "3256/3256 - 3s - loss: 0.0176\n",
      "Epoch 47/100\n",
      "3256/3256 - 3s - loss: 0.0176\n",
      "Epoch 48/100\n",
      "3256/3256 - 3s - loss: 0.0176\n",
      "Epoch 49/100\n",
      "3256/3256 - 3s - loss: 0.0176\n",
      "Epoch 50/100\n",
      "3256/3256 - 3s - loss: 0.0176\n",
      "Epoch 51/100\n",
      "3256/3256 - 3s - loss: 0.0176\n",
      "Epoch 52/100\n",
      "3256/3256 - 3s - loss: 0.0176\n",
      "Epoch 53/100\n",
      "3256/3256 - 3s - loss: 0.0176\n",
      "Epoch 54/100\n",
      "3256/3256 - 3s - loss: 0.0176\n",
      "Epoch 55/100\n",
      "3256/3256 - 3s - loss: 0.0176\n",
      "Epoch 56/100\n",
      "3256/3256 - 3s - loss: 0.0176\n",
      "Epoch 57/100\n",
      "3256/3256 - 3s - loss: 0.0176\n",
      "Epoch 58/100\n",
      "3256/3256 - 3s - loss: 0.0176\n",
      "Epoch 59/100\n",
      "3256/3256 - 3s - loss: 0.0176\n",
      "Epoch 60/100\n",
      "3256/3256 - 3s - loss: 0.0176\n",
      "Epoch 61/100\n",
      "3256/3256 - 3s - loss: 0.0176\n",
      "Epoch 62/100\n",
      "3256/3256 - 3s - loss: 0.0176\n",
      "Epoch 63/100\n",
      "3256/3256 - 3s - loss: 0.0176\n",
      "Epoch 64/100\n",
      "3256/3256 - 3s - loss: 0.0176\n",
      "Epoch 65/100\n",
      "3256/3256 - 3s - loss: 0.0176\n",
      "Epoch 66/100\n",
      "3256/3256 - 3s - loss: 0.0176\n",
      "Epoch 67/100\n",
      "3256/3256 - 3s - loss: 0.0176\n",
      "Epoch 68/100\n",
      "3256/3256 - 3s - loss: 0.0176\n",
      "Epoch 69/100\n",
      "3256/3256 - 3s - loss: 0.0176\n",
      "Epoch 70/100\n",
      "3256/3256 - 3s - loss: 0.0176\n",
      "Epoch 71/100\n",
      "3256/3256 - 3s - loss: 0.0176\n",
      "Epoch 72/100\n",
      "3256/3256 - 3s - loss: 0.0176\n",
      "Epoch 73/100\n",
      "3256/3256 - 3s - loss: 0.0176\n",
      "Epoch 74/100\n",
      "3256/3256 - 3s - loss: 0.0176\n",
      "Epoch 75/100\n",
      "3256/3256 - 3s - loss: 0.0176\n",
      "Epoch 76/100\n",
      "3256/3256 - 3s - loss: 0.0176\n",
      "Epoch 77/100\n",
      "3256/3256 - 3s - loss: 0.0176\n",
      "Epoch 78/100\n",
      "3256/3256 - 3s - loss: 0.0176\n",
      "Epoch 79/100\n",
      "3256/3256 - 3s - loss: 0.0176\n",
      "Epoch 80/100\n",
      "3256/3256 - 3s - loss: 0.0176\n",
      "Epoch 81/100\n",
      "3256/3256 - 3s - loss: 0.0176\n",
      "Epoch 82/100\n",
      "3256/3256 - 3s - loss: 0.0176\n",
      "Epoch 83/100\n",
      "3256/3256 - 3s - loss: 0.0176\n",
      "Epoch 84/100\n",
      "3256/3256 - 3s - loss: 0.0176\n",
      "Epoch 85/100\n",
      "3256/3256 - 3s - loss: 0.0176\n",
      "Epoch 86/100\n",
      "3256/3256 - 3s - loss: 0.0176\n",
      "Epoch 87/100\n",
      "3256/3256 - 3s - loss: 0.0176\n",
      "Epoch 88/100\n",
      "3256/3256 - 3s - loss: 0.0176\n",
      "Epoch 89/100\n",
      "3256/3256 - 3s - loss: 0.0176\n",
      "Epoch 90/100\n",
      "3256/3256 - 3s - loss: 0.0176\n",
      "Epoch 91/100\n",
      "3256/3256 - 3s - loss: 0.0176\n",
      "Epoch 92/100\n",
      "3256/3256 - 3s - loss: 0.0176\n",
      "Epoch 93/100\n",
      "3256/3256 - 3s - loss: 0.0176\n",
      "Epoch 94/100\n",
      "3256/3256 - 3s - loss: 0.0176\n",
      "Epoch 95/100\n",
      "3256/3256 - 3s - loss: 0.0176\n",
      "Epoch 96/100\n",
      "3256/3256 - 3s - loss: 0.0176\n",
      "Epoch 97/100\n",
      "3256/3256 - 3s - loss: 0.0176\n",
      "Epoch 98/100\n",
      "3256/3256 - 3s - loss: 0.0176\n",
      "Epoch 99/100\n",
      "3256/3256 - 3s - loss: 0.0176\n",
      "Epoch 100/100\n",
      "3256/3256 - 3s - loss: 0.0176\n"
     ]
    },
    {
     "output_type": "execute_result",
     "data": {
      "text/plain": [
       "<tensorflow.python.keras.callbacks.History at 0x1b65af54f40>"
      ]
     },
     "metadata": {},
     "execution_count": 220
    }
   ],
   "source": [
    "model = Sequential()\n",
    "\n",
    "opt = keras.optimizers.Adam()\n",
    "model.add(LSTM(4, input_shape=(1, look_back)))\n",
    "model.add(Dense(1,activation=\"relu\"))\n",
    "model.compile(loss='mean_absolute_error', optimizer=opt)\n",
    "model.fit(trainX, trainY, epochs=100, batch_size=1, verbose=2)"
   ]
  },
  {
   "cell_type": "code",
   "execution_count": 221,
   "metadata": {},
   "outputs": [],
   "source": [
    "trainPredict = model.predict(trainX)\n",
    "testPredict = model.predict(testX)"
   ]
  },
  {
   "cell_type": "code",
   "execution_count": 222,
   "metadata": {},
   "outputs": [],
   "source": [
    "trainPredict = scaler.inverse_transform(trainPredict)\n",
    "trainY = scaler.inverse_transform([trainY])\n",
    "testPredict = scaler.inverse_transform(testPredict)\n",
    "testY = scaler.inverse_transform([testY])"
   ]
  },
  {
   "cell_type": "code",
   "execution_count": 224,
   "metadata": {},
   "outputs": [],
   "source": [
    "from sklearn.metrics import mean_squared_error\n",
    "\n",
    "\n",
    "ypred=testPredict.reshape(334)\n",
    "ty=testY.reshape(334)"
   ]
  },
  {
   "cell_type": "code",
   "execution_count": 225,
   "metadata": {},
   "outputs": [
    {
     "output_type": "execute_result",
     "data": {
      "text/plain": [
       "2.8140718562874247"
      ]
     },
     "metadata": {},
     "execution_count": 225
    }
   ],
   "source": [
    "from sklearn.metrics import mean_absolute_error\n",
    "mean_absolute_error(ty,ypred)"
   ]
  },
  {
   "cell_type": "code",
   "execution_count": 226,
   "metadata": {},
   "outputs": [
    {
     "output_type": "execute_result",
     "data": {
      "text/plain": [
       "array([0., 0., 0., 0., 0., 0., 0., 0., 0., 0., 0., 0., 0., 0., 0., 0., 0.,\n",
       "       0., 0., 0., 0., 0., 0., 0., 0., 0., 0., 0., 0., 0., 0., 0., 0., 0.,\n",
       "       0., 0., 0., 0., 0., 0., 0., 0., 0., 0., 0., 0., 0., 0., 0., 0., 0.,\n",
       "       0., 0., 0., 0., 0., 0., 0., 0., 0., 0., 0., 0., 0., 0., 0., 0., 0.,\n",
       "       0., 0., 0., 0., 0., 0., 0., 0., 0., 0., 0., 0., 0., 0., 0., 0., 0.,\n",
       "       0., 0., 0., 0., 0., 0., 0., 0., 0., 0., 0., 0., 0., 0., 0., 0., 0.,\n",
       "       0., 0., 0., 0., 0., 0., 0., 0., 0., 0., 0., 0., 0., 0., 0., 0., 0.,\n",
       "       0., 0., 0., 0., 0., 0., 0., 0., 0., 0., 0., 0., 0., 0., 0., 0., 0.,\n",
       "       0., 0., 0., 0., 0., 0., 0., 0., 0., 0., 0., 0., 0., 0., 0., 0., 0.,\n",
       "       0., 0., 0., 0., 0., 0., 0., 0., 0., 0., 0., 0., 0., 0., 0., 0., 0.,\n",
       "       0., 0., 0., 0., 0., 0., 0., 0., 0., 0., 0., 0., 0., 0., 0., 0., 0.,\n",
       "       0., 0., 0., 0., 0., 0., 0., 0., 0., 0., 0., 0., 0., 0., 0., 0., 0.,\n",
       "       0., 0., 0., 0., 0., 0., 0., 0., 0., 0., 0., 0., 0., 0., 0., 0., 0.,\n",
       "       0., 0., 0., 0., 0., 0., 0., 0., 0., 0., 0., 0., 0., 0., 0., 0., 0.,\n",
       "       0., 0., 0., 0., 0., 0., 0., 0., 0., 0., 0., 0., 0., 0., 0., 0., 0.,\n",
       "       0., 0., 0., 0., 0., 0., 0., 0., 0., 0., 0., 0., 0., 0., 0., 0., 0.,\n",
       "       0., 0., 0., 0., 0., 0., 0., 0., 0., 0., 0., 0., 0., 0., 0., 0., 0.,\n",
       "       0., 0., 0., 0., 0., 0., 0., 0., 0., 0., 0., 0., 0., 0., 0., 0., 0.,\n",
       "       0., 0., 0., 0., 0., 0., 0., 0., 0., 0., 0., 0., 0., 0., 0., 0., 0.,\n",
       "       0., 0., 0., 0., 0., 0., 0., 0., 0., 0., 0.], dtype=float32)"
      ]
     },
     "metadata": {},
     "execution_count": 226
    }
   ],
   "source": [
    "ypred"
   ]
  },
  {
   "cell_type": "code",
   "execution_count": null,
   "metadata": {},
   "outputs": [],
   "source": []
  }
 ]
}