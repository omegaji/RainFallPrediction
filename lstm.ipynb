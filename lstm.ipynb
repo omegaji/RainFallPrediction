{
 "metadata": {
  "language_info": {
   "codemirror_mode": {
    "name": "ipython",
    "version": 3
   },
   "file_extension": ".py",
   "mimetype": "text/x-python",
   "name": "python",
   "nbconvert_exporter": "python",
   "pygments_lexer": "ipython3",
   "version": "3.8.3"
  },
  "orig_nbformat": 2,
  "kernelspec": {
   "name": "python383jvsc74a57bd04679094c71e58fd5daa32654c6d4dcc218cb243910207196539a7dfc04a8a332",
   "display_name": "Python 3.8.3 64-bit ('base': conda)"
  }
 },
 "nbformat": 4,
 "nbformat_minor": 2,
 "cells": [
  {
   "cell_type": "code",
   "execution_count": 1,
   "metadata": {},
   "outputs": [],
   "source": [
    "import pandas as pd\n",
    "import numpy as np\n",
    "df=pd.read_csv(\"combined.csv\")\n",
    "\n",
    "def convertToFloat(x):\n",
    "    x=x.strip()\n",
    "    if x==\"-\" or x==\"NR\" or x=='' or x==\".\" or x==\"\" or x==' ':\n",
    "        return 0\n",
    "    else:\n",
    "        \n",
    "        return float(x)\n",
    "df[\"rain\"]=df[\"Rain\"].apply(convertToFloat)\n",
    "# import datetime\n",
    "df.pop(\"Rain\")\n",
    "aldf=df[df.District==\"Alangayam\"]\n",
    "# df[\"month\"]=df[\"Date\"].apply(lambda x:datetime.datetime.strptime(x,\"%Y-%m-%d\").month)\n",
    "# df[\"year\"]=df[\"Date\"].apply(lambda x: datetime.datetime.strptime(x,\"%Y-%m-%d\").year)\n",
    "# df[\"day\"]=df[\"Date\"].apply(lambda x: datetime.datetime.strptime(x,\"%Y-%m-%d\").day)"
   ]
  },
  {
   "cell_type": "code",
   "execution_count": 2,
   "metadata": {},
   "outputs": [
    {
     "output_type": "execute_result",
     "data": {
      "text/plain": [
       "array([[0.],\n",
       "       [0.],\n",
       "       [0.],\n",
       "       ...,\n",
       "       [0.],\n",
       "       [0.],\n",
       "       [0.]])"
      ]
     },
     "metadata": {},
     "execution_count": 2
    }
   ],
   "source": [
    "dataset=aldf[[\"rain\"]].values\n",
    "dataset "
   ]
  },
  {
   "cell_type": "code",
   "execution_count": 3,
   "metadata": {},
   "outputs": [],
   "source": [
    "from keras.models import Sequential\n",
    "from keras.layers import Dense\n",
    "from keras.layers import LSTM\n",
    "from sklearn.preprocessing import MinMaxScaler\n",
    "from sklearn.metrics import mean_squared_error\n",
    "from tensorflow import keras"
   ]
  },
  {
   "cell_type": "code",
   "execution_count": 5,
   "metadata": {},
   "outputs": [
    {
     "output_type": "error",
     "ename": "NameError",
     "evalue": "name 'scaler' is not defined",
     "traceback": [
      "\u001b[1;31m---------------------------------------------------------------------------\u001b[0m",
      "\u001b[1;31mNameError\u001b[0m                                 Traceback (most recent call last)",
      "\u001b[1;32m<ipython-input-5-c66668df774f>\u001b[0m in \u001b[0;36m<module>\u001b[1;34m\u001b[0m\n\u001b[0;32m      1\u001b[0m \u001b[0mnp\u001b[0m\u001b[1;33m.\u001b[0m\u001b[0mrandom\u001b[0m\u001b[1;33m.\u001b[0m\u001b[0mseed\u001b[0m\u001b[1;33m(\u001b[0m\u001b[1;36m7\u001b[0m\u001b[1;33m)\u001b[0m\u001b[1;33m\u001b[0m\u001b[1;33m\u001b[0m\u001b[0m\n\u001b[0;32m      2\u001b[0m \u001b[1;33m\u001b[0m\u001b[0m\n\u001b[1;32m----> 3\u001b[1;33m \u001b[0mdataset\u001b[0m\u001b[1;33m=\u001b[0m\u001b[0mscaler\u001b[0m\u001b[1;33m.\u001b[0m\u001b[0mfit_transform\u001b[0m\u001b[1;33m(\u001b[0m\u001b[0mdataset\u001b[0m\u001b[1;33m)\u001b[0m\u001b[1;33m\u001b[0m\u001b[1;33m\u001b[0m\u001b[0m\n\u001b[0m",
      "\u001b[1;31mNameError\u001b[0m: name 'scaler' is not defined"
     ]
    }
   ],
   "source": [
    "np.random.seed(7)\n",
    "\n",
    "dataset=scaler.fit_transform(dataset)"
   ]
  },
  {
   "cell_type": "code",
   "execution_count": 6,
   "metadata": {},
   "outputs": [],
   "source": [
    "def CreateDataset(dataset,lookback):\n",
    "    DataX=[]\n",
    "    DataY=[]\n",
    "    for i in range(len(dataset)-lookback-1):\n",
    "        DataX.append(dataset[i:(lookback+i),0])\n",
    "        DataY.append(dataset[(lookback+i),0])\n",
    "    return np.array(DataX),np.array(DataY)"
   ]
  },
  {
   "cell_type": "code",
   "execution_count": 7,
   "metadata": {},
   "outputs": [
    {
     "output_type": "error",
     "ename": "NameError",
     "evalue": "name 'trainX' is not defined",
     "traceback": [
      "\u001b[1;31m---------------------------------------------------------------------------\u001b[0m",
      "\u001b[1;31mNameError\u001b[0m                                 Traceback (most recent call last)",
      "\u001b[1;32m<ipython-input-7-12654d2d9272>\u001b[0m in \u001b[0;36m<module>\u001b[1;34m\u001b[0m\n\u001b[1;32m----> 1\u001b[1;33m \u001b[0mtrainX\u001b[0m\u001b[1;33m\u001b[0m\u001b[1;33m\u001b[0m\u001b[0m\n\u001b[0m",
      "\u001b[1;31mNameError\u001b[0m: name 'trainX' is not defined"
     ]
    }
   ],
   "source": [
    "trainX"
   ]
  },
  {
   "cell_type": "code",
   "execution_count": 8,
   "metadata": {},
   "outputs": [],
   "source": [
    "trainsize=3287\n",
    "testsize=365\n",
    "train, test = dataset[0:trainsize,:], dataset[trainsize:len(dataset),:]"
   ]
  },
  {
   "cell_type": "code",
   "execution_count": 9,
   "metadata": {},
   "outputs": [],
   "source": [
    "look_back=30\n",
    "trainX,trainY=CreateDataset(train,look_back)\n",
    "testX,testY=CreateDataset(test,look_back)\n",
    "# reshape input to be [samples, time steps, features]\n",
    "trainX = np.reshape(trainX, (trainX.shape[0], 1, trainX.shape[1]))\n",
    "testX = np.reshape(testX, (testX.shape[0], 1, testX.shape[1]))"
   ]
  },
  {
   "cell_type": "code",
   "execution_count": 103,
   "metadata": {},
   "outputs": [],
   "source": []
  },
  {
   "cell_type": "code",
   "execution_count": 10,
   "metadata": {},
   "outputs": [],
   "source": []
  },
  {
   "cell_type": "code",
   "execution_count": 218,
   "metadata": {
    "tags": []
   },
   "outputs": [
    {
     "output_type": "error",
     "ename": "SyntaxError",
     "evalue": "invalid syntax (<ipython-input-218-7474edad756f>, line 1)",
     "traceback": [
      "\u001b[1;36m  File \u001b[1;32m\"<ipython-input-218-7474edad756f>\"\u001b[1;36m, line \u001b[1;32m1\u001b[0m\n\u001b[1;33m    2=@\u001b[0m\n\u001b[1;37m      ^\u001b[0m\n\u001b[1;31mSyntaxError\u001b[0m\u001b[1;31m:\u001b[0m invalid syntax\n"
     ]
    }
   ],
   "source": [
    "2=@"
   ]
  },
  {
   "cell_type": "code",
   "execution_count": 12,
   "metadata": {},
   "outputs": [
    {
     "output_type": "stream",
     "name": "stdout",
     "text": [
      "Epoch 1/100\n",
      "3256/3256 - 3s - loss: 2.6821\n",
      "Epoch 2/100\n",
      "3256/3256 - 3s - loss: 2.6657\n",
      "Epoch 3/100\n",
      "3256/3256 - 3s - loss: 2.6642\n",
      "Epoch 4/100\n",
      "3256/3256 - 3s - loss: 2.6630\n",
      "Epoch 5/100\n",
      "3256/3256 - 3s - loss: 2.6613\n",
      "Epoch 6/100\n",
      "3256/3256 - 3s - loss: 2.6577\n",
      "Epoch 7/100\n",
      "3256/3256 - 3s - loss: 2.6511\n",
      "Epoch 8/100\n",
      "3256/3256 - 3s - loss: 2.6428\n",
      "Epoch 9/100\n",
      "3256/3256 - 3s - loss: 2.6348\n",
      "Epoch 10/100\n",
      "3256/3256 - 3s - loss: 2.6239\n",
      "Epoch 11/100\n",
      "3256/3256 - 3s - loss: 2.6093\n",
      "Epoch 12/100\n",
      "3256/3256 - 3s - loss: 2.5961\n",
      "Epoch 13/100\n",
      "3256/3256 - 3s - loss: 2.5860\n",
      "Epoch 14/100\n",
      "3256/3256 - 3s - loss: 2.5712\n",
      "Epoch 15/100\n",
      "3256/3256 - 3s - loss: 2.5592\n",
      "Epoch 16/100\n",
      "3256/3256 - 3s - loss: 2.5365\n",
      "Epoch 17/100\n",
      "3256/3256 - 3s - loss: 2.5206\n",
      "Epoch 18/100\n",
      "3256/3256 - 3s - loss: 2.5037\n",
      "Epoch 19/100\n",
      "3256/3256 - 4s - loss: 2.4835\n",
      "Epoch 20/100\n",
      "3256/3256 - 3s - loss: 2.4762\n",
      "Epoch 21/100\n",
      "3256/3256 - 3s - loss: 2.4543\n",
      "Epoch 22/100\n",
      "3256/3256 - 3s - loss: 2.4464\n",
      "Epoch 23/100\n",
      "3256/3256 - 3s - loss: 2.4307\n",
      "Epoch 24/100\n",
      "3256/3256 - 3s - loss: 2.4191\n",
      "Epoch 25/100\n",
      "3256/3256 - 3s - loss: 2.3985\n",
      "Epoch 26/100\n",
      "3256/3256 - 3s - loss: 2.3930\n",
      "Epoch 27/100\n",
      "3256/3256 - 3s - loss: 2.3835\n",
      "Epoch 28/100\n",
      "3256/3256 - 3s - loss: 2.3790\n",
      "Epoch 29/100\n",
      "3256/3256 - 3s - loss: 2.3685\n",
      "Epoch 30/100\n",
      "3256/3256 - 3s - loss: 2.3569\n",
      "Epoch 31/100\n",
      "3256/3256 - 3s - loss: 2.3494\n",
      "Epoch 32/100\n",
      "3256/3256 - 4s - loss: 2.3352\n",
      "Epoch 33/100\n",
      "3256/3256 - 3s - loss: 2.3437\n",
      "Epoch 34/100\n",
      "3256/3256 - 3s - loss: 2.3153\n",
      "Epoch 35/100\n",
      "3256/3256 - 3s - loss: 2.3036\n",
      "Epoch 36/100\n",
      "3256/3256 - 4s - loss: 2.2990\n",
      "Epoch 37/100\n",
      "3256/3256 - 4s - loss: 2.2963\n",
      "Epoch 38/100\n",
      "3256/3256 - 3s - loss: 2.2774\n",
      "Epoch 39/100\n",
      "3256/3256 - 3s - loss: 2.2739\n",
      "Epoch 40/100\n",
      "3256/3256 - 3s - loss: 2.2704\n",
      "Epoch 41/100\n",
      "3256/3256 - 3s - loss: 2.2591\n",
      "Epoch 42/100\n",
      "3256/3256 - 3s - loss: 2.2578\n",
      "Epoch 43/100\n",
      "3256/3256 - 3s - loss: 2.2491\n",
      "Epoch 44/100\n",
      "3256/3256 - 3s - loss: 2.2328\n",
      "Epoch 45/100\n",
      "3256/3256 - 3s - loss: 2.2330\n",
      "Epoch 46/100\n",
      "3256/3256 - 3s - loss: 2.2163\n",
      "Epoch 47/100\n",
      "3256/3256 - 3s - loss: 2.2267\n",
      "Epoch 48/100\n",
      "3256/3256 - 3s - loss: 2.2174\n",
      "Epoch 49/100\n",
      "3256/3256 - 3s - loss: 2.2095\n",
      "Epoch 50/100\n",
      "3256/3256 - 3s - loss: 2.1989\n",
      "Epoch 51/100\n",
      "3256/3256 - 3s - loss: 2.1750\n",
      "Epoch 52/100\n",
      "3256/3256 - 3s - loss: 2.1796\n",
      "Epoch 53/100\n",
      "3256/3256 - 3s - loss: 2.1993\n",
      "Epoch 54/100\n",
      "3256/3256 - 3s - loss: 2.1731\n",
      "Epoch 55/100\n",
      "3256/3256 - 3s - loss: 2.1533\n",
      "Epoch 56/100\n",
      "3256/3256 - 3s - loss: 2.1700\n",
      "Epoch 57/100\n",
      "3256/3256 - 3s - loss: 2.1576\n",
      "Epoch 58/100\n",
      "3256/3256 - 3s - loss: 2.1575\n",
      "Epoch 59/100\n",
      "3256/3256 - 3s - loss: 2.1590\n",
      "Epoch 60/100\n",
      "3256/3256 - 3s - loss: 2.1463\n",
      "Epoch 61/100\n",
      "3256/3256 - 3s - loss: 2.1353\n",
      "Epoch 62/100\n",
      "3256/3256 - 3s - loss: 2.1364\n",
      "Epoch 63/100\n",
      "3256/3256 - 3s - loss: 2.1184\n",
      "Epoch 64/100\n",
      "3256/3256 - 3s - loss: 2.1235\n",
      "Epoch 65/100\n",
      "3256/3256 - 3s - loss: 2.1177\n",
      "Epoch 66/100\n",
      "3256/3256 - 3s - loss: 2.1023\n",
      "Epoch 67/100\n",
      "3256/3256 - 3s - loss: 2.1048\n",
      "Epoch 68/100\n",
      "3256/3256 - 3s - loss: 2.0913\n",
      "Epoch 69/100\n",
      "3256/3256 - 4s - loss: 2.1027\n",
      "Epoch 70/100\n",
      "3256/3256 - 5s - loss: 2.0771\n",
      "Epoch 71/100\n",
      "3256/3256 - 4s - loss: 2.0885\n",
      "Epoch 72/100\n",
      "3256/3256 - 4s - loss: 2.0737\n",
      "Epoch 73/100\n",
      "3256/3256 - 4s - loss: 2.0757\n",
      "Epoch 74/100\n",
      "3256/3256 - 4s - loss: 2.0638\n",
      "Epoch 75/100\n",
      "3256/3256 - 3s - loss: 2.0733\n",
      "Epoch 76/100\n",
      "3256/3256 - 3s - loss: 2.0675\n",
      "Epoch 77/100\n",
      "3256/3256 - 3s - loss: 2.0621\n",
      "Epoch 78/100\n",
      "3256/3256 - 3s - loss: 2.0392\n",
      "Epoch 79/100\n",
      "3256/3256 - 3s - loss: 2.0507\n",
      "Epoch 80/100\n",
      "3256/3256 - 3s - loss: 2.0471\n",
      "Epoch 81/100\n",
      "3256/3256 - 3s - loss: 2.0504\n",
      "Epoch 82/100\n",
      "3256/3256 - 3s - loss: 2.0559\n",
      "Epoch 83/100\n",
      "3256/3256 - 3s - loss: 2.0411\n",
      "Epoch 84/100\n",
      "3256/3256 - 3s - loss: 2.0447\n",
      "Epoch 85/100\n",
      "3256/3256 - 3s - loss: 2.0318\n",
      "Epoch 86/100\n",
      "3256/3256 - 3s - loss: 2.0398\n",
      "Epoch 87/100\n",
      "3256/3256 - 3s - loss: 2.0346\n",
      "Epoch 88/100\n",
      "3256/3256 - 3s - loss: 2.0543\n",
      "Epoch 89/100\n",
      "3256/3256 - 3s - loss: 2.0638\n",
      "Epoch 90/100\n",
      "3256/3256 - 3s - loss: 2.0532\n",
      "Epoch 91/100\n",
      "3256/3256 - 3s - loss: 2.0350\n",
      "Epoch 92/100\n",
      "3256/3256 - 3s - loss: 2.0266\n",
      "Epoch 93/100\n",
      "3256/3256 - 3s - loss: 2.0504\n",
      "Epoch 94/100\n",
      "3256/3256 - 3s - loss: 2.0110\n",
      "Epoch 95/100\n",
      "3256/3256 - 3s - loss: 2.0249\n",
      "Epoch 96/100\n",
      "3256/3256 - 3s - loss: 2.0028\n",
      "Epoch 97/100\n",
      "3256/3256 - 3s - loss: 1.9963\n",
      "Epoch 98/100\n",
      "3256/3256 - 3s - loss: 2.0124\n",
      "Epoch 99/100\n",
      "3256/3256 - 3s - loss: 2.0217\n",
      "Epoch 100/100\n",
      "3256/3256 - 3s - loss: 1.9907\n"
     ]
    },
    {
     "output_type": "execute_result",
     "data": {
      "text/plain": [
       "<tensorflow.python.keras.callbacks.History at 0x24ea3d76d90>"
      ]
     },
     "metadata": {},
     "execution_count": 12
    }
   ],
   "source": [
    "model = Sequential()\n",
    "\n",
    "opt = keras.optimizers.Adam()\n",
    "model.add(keras.layers.Bidirectional(LSTM(4, input_shape=(1, look_back))))\n",
    "model.add(Dense(1,activation=\"relu\"))\n",
    "model.compile(loss='mean_absolute_error', optimizer=opt)\n",
    "model.fit(trainX, trainY, epochs=100, batch_size=1, verbose=2)"
   ]
  },
  {
   "cell_type": "code",
   "execution_count": 13,
   "metadata": {},
   "outputs": [],
   "source": []
  },
  {
   "cell_type": "code",
   "execution_count": 14,
   "metadata": {},
   "outputs": [
    {
     "output_type": "error",
     "ename": "NameError",
     "evalue": "name 'scaler' is not defined",
     "traceback": [
      "\u001b[1;31m---------------------------------------------------------------------------\u001b[0m",
      "\u001b[1;31mNameError\u001b[0m                                 Traceback (most recent call last)",
      "\u001b[1;32m<ipython-input-14-82f916ff98fe>\u001b[0m in \u001b[0;36m<module>\u001b[1;34m\u001b[0m\n\u001b[1;32m----> 1\u001b[1;33m \u001b[0mtrainPredict\u001b[0m \u001b[1;33m=\u001b[0m \u001b[0mscaler\u001b[0m\u001b[1;33m.\u001b[0m\u001b[0minverse_transform\u001b[0m\u001b[1;33m(\u001b[0m\u001b[0mtrainPredict\u001b[0m\u001b[1;33m)\u001b[0m\u001b[1;33m\u001b[0m\u001b[1;33m\u001b[0m\u001b[0m\n\u001b[0m\u001b[0;32m      2\u001b[0m \u001b[0mtrainY\u001b[0m \u001b[1;33m=\u001b[0m \u001b[0mscaler\u001b[0m\u001b[1;33m.\u001b[0m\u001b[0minverse_transform\u001b[0m\u001b[1;33m(\u001b[0m\u001b[1;33m[\u001b[0m\u001b[0mtrainY\u001b[0m\u001b[1;33m]\u001b[0m\u001b[1;33m)\u001b[0m\u001b[1;33m\u001b[0m\u001b[1;33m\u001b[0m\u001b[0m\n\u001b[0;32m      3\u001b[0m \u001b[0mtestPredict\u001b[0m \u001b[1;33m=\u001b[0m \u001b[0mscaler\u001b[0m\u001b[1;33m.\u001b[0m\u001b[0minverse_transform\u001b[0m\u001b[1;33m(\u001b[0m\u001b[0mtestPredict\u001b[0m\u001b[1;33m)\u001b[0m\u001b[1;33m\u001b[0m\u001b[1;33m\u001b[0m\u001b[0m\n\u001b[0;32m      4\u001b[0m \u001b[0mtestY\u001b[0m \u001b[1;33m=\u001b[0m \u001b[0mscaler\u001b[0m\u001b[1;33m.\u001b[0m\u001b[0minverse_transform\u001b[0m\u001b[1;33m(\u001b[0m\u001b[1;33m[\u001b[0m\u001b[0mtestY\u001b[0m\u001b[1;33m]\u001b[0m\u001b[1;33m)\u001b[0m\u001b[1;33m\u001b[0m\u001b[1;33m\u001b[0m\u001b[0m\n",
      "\u001b[1;31mNameError\u001b[0m: name 'scaler' is not defined"
     ]
    }
   ],
   "source": [
    "trainPredict = model.predict(trainX)\n",
    "testPredict = model.predict(testX)\n",
    "\n",
    "from sklearn.metrics import mean_squared_error\n",
    "\n",
    "\n",
    "ypred=testPredict.reshape(334)\n",
    "ty=testY.reshape(334)\n",
    "\n",
    "# rainPredict = scaler.inverse_transform(trainPredict)\n",
    "# trainY = scaler.inverse_transform([trainY])\n",
    "# testPredict = scaler.inverse_transform(testPredict)\n",
    "# testY = scaler.inverse_transform([testY])"
   ]
  },
  {
   "cell_type": "code",
   "execution_count": 15,
   "metadata": {},
   "outputs": [],
   "source": []
  },
  {
   "cell_type": "code",
   "execution_count": 16,
   "metadata": {},
   "outputs": [
    {
     "output_type": "execute_result",
     "data": {
      "text/plain": [
       "2.9558856780657514"
      ]
     },
     "metadata": {},
     "execution_count": 16
    }
   ],
   "source": [
    "from sklearn.metrics import mean_absolute_error\n",
    "mean_absolute_error(ty,ypred)"
   ]
  },
  {
   "cell_type": "code",
   "execution_count": 19,
   "metadata": {},
   "outputs": [
    {
     "output_type": "execute_result",
     "data": {
      "text/plain": [
       "(30,)"
      ]
     },
     "metadata": {},
     "execution_count": 19
    }
   ],
   "source": [
    "ypred[ypred>0].shape"
   ]
  },
  {
   "cell_type": "code",
   "execution_count": 20,
   "metadata": {},
   "outputs": [
    {
     "output_type": "execute_result",
     "data": {
      "text/plain": [
       "(334,)"
      ]
     },
     "metadata": {},
     "execution_count": 20
    }
   ],
   "source": [
    "ypred.shape"
   ]
  },
  {
   "cell_type": "code",
   "execution_count": null,
   "metadata": {},
   "outputs": [],
   "source": []
  }
 ]
}